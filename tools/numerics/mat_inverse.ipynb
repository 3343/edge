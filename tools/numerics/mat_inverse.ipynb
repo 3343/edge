{
 "cells": [
  {
   "cell_type": "code",
   "execution_count": null,
   "metadata": {
    "collapsed": false
   },
   "outputs": [],
   "source": [
    "##\n",
    "# @file This file is part of EDGE.\n",
    "#\n",
    "# @author Alexander Breuer (anbreuer AT ucsd.edu)\n",
    "#\n",
    "# @section LICENSE\n",
    "# Copyright (c) 2016, Regents of the University of California\n",
    "# All rights reserved.\n",
    "#\n",
    "# Redistribution and use in source and binary forms, with or without modification, are permitted provided that the following conditions are met:\n",
    "#\n",
    "# 1. Redistributions of source code must retain the above copyright notice, this list of conditions and the following disclaimer.\n",
    "#\n",
    "# 2. Redistributions in binary form must reproduce the above copyright notice, this list of conditions and the following disclaimer in the documentation and/or other materials provided with the distribution.\n",
    "#\n",
    "# 3. Neither the name of the copyright holder nor the names of its contributors may be used to endorse or promote products derived from this software without specific prior written permission.\n",
    "#\n",
    "# THIS SOFTWARE IS PROVIDED BY THE COPYRIGHT HOLDERS AND CONTRIBUTORS \"AS IS\" AND ANY EXPRESS OR IMPLIED WARRANTIES, INCLUDING, BUT NOT LIMITED TO, THE IMPLIED WARRANTIES OF MERCHANTABILITY AND FITNESS FOR A PARTICULAR PURPOSE ARE DISCLAIMED. IN NO EVENT SHALL THE COPYRIGHT HOLDER OR CONTRIBUTORS BE LIABLE FOR ANY DIRECT, INDIRECT, INCIDENTAL, SPECIAL, EXEMPLARY, OR CONSEQUENTIAL DAMAGES (INCLUDING, BUT NOT LIMITED TO, PROCUREMENT OF SUBSTITUTE GOODS OR SERVICES; LOSS OF USE, DATA, OR PROFITS; OR BUSINESS INTERRUPTION) HOWEVER CAUSED AND ON ANY THEORY OF LIABILITY, WHETHER IN CONTRACT, STRICT LIABILITY, OR TORT (INCLUDING NEGLIGENCE OR OTHERWISE) ARISING IN ANY WAY OUT OF THE USE OF THIS SOFTWARE, EVEN IF ADVISED OF THE POSSIBILITY OF SUCH DAMAGE.\n",
    "#\n",
    "# @section DESCRIPTION\n",
    "# Derivation of 4x4 matrix-inverse.\n",
    "##"
   ]
  },
  {
   "cell_type": "code",
   "execution_count": null,
   "metadata": {
    "collapsed": true
   },
   "outputs": [],
   "source": [
    "import sympy"
   ]
  },
  {
   "cell_type": "code",
   "execution_count": null,
   "metadata": {
    "collapsed": false
   },
   "outputs": [],
   "source": [
    "x = []\n",
    "x0 = sympy.symbols('l_ves[0]')\n",
    "x1 = sympy.symbols('l_ves[1]')\n",
    "x2 = sympy.symbols('l_ves[2]')\n",
    "x3 = sympy.symbols('l_ves[3]')\n",
    "x4 = sympy.symbols('l_ves[4]')\n",
    "x5 = sympy.symbols('l_ves[5]')\n",
    "x6 = sympy.symbols('l_ves[6]')\n",
    "x7 = sympy.symbols('l_ves[7]')\n",
    "x8 = sympy.symbols('l_ves[8]')\n",
    "x9 = sympy.symbols('l_ves[9]')\n",
    "x10 = sympy.symbols('l_ves[10]')\n",
    "x11 = sympy.symbols('l_ves[11]')\n",
    "\n",
    "M = sympy.Matrix([ [1, 1, 1, 1],\n",
    "                   [x0, x1, x2, x3],\n",
    "                   [x4, x5, x6, x7],\n",
    "                   [x8, x9,x10,x11] ] )"
   ]
  },
  {
   "cell_type": "code",
   "execution_count": null,
   "metadata": {
    "collapsed": false
   },
   "outputs": [],
   "source": [
    "Minv = sympy.simplify(M.inv())"
   ]
  },
  {
   "cell_type": "code",
   "execution_count": null,
   "metadata": {
    "collapsed": false
   },
   "outputs": [],
   "source": [
    "for l_ro in xrange(4):\n",
    "  for l_co in xrange(4):\n",
    "    print 'l_inv['+str(l_ro*4+l_co)+']', '=',sympy.ccode( Minv[l_ro,l_co] )+';'"
   ]
  }
 ],
 "metadata": {
  "kernelspec": {
   "display_name": "Python 2",
   "language": "python",
   "name": "python2"
  },
  "language_info": {
   "codemirror_mode": {
    "name": "ipython",
    "version": 2
   },
   "file_extension": ".py",
   "mimetype": "text/x-python",
   "name": "python",
   "nbconvert_exporter": "python",
   "pygments_lexer": "ipython2",
   "version": "2.7.9"
  }
 },
 "nbformat": 4,
 "nbformat_minor": 1
}
