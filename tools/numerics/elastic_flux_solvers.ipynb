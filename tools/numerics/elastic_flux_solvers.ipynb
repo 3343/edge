{
 "cells": [
  {
   "cell_type": "code",
   "execution_count": null,
   "metadata": {
    "collapsed": true
   },
   "outputs": [],
   "source": [
    "##\n",
    "# @file This file is part of EDGE.\n",
    "#\n",
    "# @author Alexander Breuer (anbreuer AT ucsd.edu)\n",
    "#\n",
    "# @section LICENSE\n",
    "# Copyright (c) 2016-2017, Regents of the University of California\n",
    "# All rights reserved.\n",
    "#\n",
    "# Redistribution and use in source and binary forms, with or without modification, are permitted provided that the following conditions are met:\n",
    "#\n",
    "# 1. Redistributions of source code must retain the above copyright notice, this list of conditions and the following disclaimer.\n",
    "#\n",
    "# 2. Redistributions in binary form must reproduce the above copyright notice, this list of conditions and the following disclaimer in the documentation and/or other materials provided with the distribution.\n",
    "#\n",
    "# 3. Neither the name of the copyright holder nor the names of its contributors may be used to endorse or promote products derived from this software without specific prior written permission.\n",
    "#\n",
    "# THIS SOFTWARE IS PROVIDED BY THE COPYRIGHT HOLDERS AND CONTRIBUTORS \"AS IS\" AND ANY EXPRESS OR IMPLIED WARRANTIES, INCLUDING, BUT NOT LIMITED TO, THE IMPLIED WARRANTIES OF MERCHANTABILITY AND FITNESS FOR A PARTICULAR PURPOSE ARE DISCLAIMED. IN NO EVENT SHALL THE COPYRIGHT HOLDER OR CONTRIBUTORS BE LIABLE FOR ANY DIRECT, INDIRECT, INCIDENTAL, SPECIAL, EXEMPLARY, OR CONSEQUENTIAL DAMAGES (INCLUDING, BUT NOT LIMITED TO, PROCUREMENT OF SUBSTITUTE GOODS OR SERVICES; LOSS OF USE, DATA, OR PROFITS; OR BUSINESS INTERRUPTION) HOWEVER CAUSED AND ON ANY THEORY OF LIABILITY, WHETHER IN CONTRACT, STRICT LIABILITY, OR TORT (INCLUDING NEGLIGENCE OR OTHERWISE) ARISING IN ANY WAY OUT OF THE USE OF THIS SOFTWARE, EVEN IF ADVISED OF THE POSSIBILITY OF SUCH DAMAGE.\n",
    "#\n",
    "# @section DESCRIPTION\n",
    "# Derivation of flux solvers.\n",
    "# Remark: This is for illustrative/debugging purposes. We use the Mathematica script for the implementation.\n",
    "##"
   ]
  },
  {
   "cell_type": "code",
   "execution_count": null,
   "metadata": {
    "collapsed": false
   },
   "outputs": [],
   "source": [
    "import sympy\n",
    "sympy.init_printing(use_unicode=True)"
   ]
  },
  {
   "cell_type": "code",
   "execution_count": null,
   "metadata": {
    "collapsed": false
   },
   "outputs": [],
   "source": [
    "# create the symbols\n",
    "laml = sympy.symbols('lambda_l')\n",
    "mul  = sympy.symbols('mu_l')\n",
    "rhol = sympy.symbols('rho_l')\n",
    "lamr = sympy.symbols('lambda_r')\n",
    "mur  = sympy.symbols('mu_r')\n",
    "rhor = sympy.symbols('rho_r')\n",
    "\n",
    "nx   = sympy.symbols('n_x')\n",
    "ny   = sympy.symbols('n_y')\n",
    "\n",
    "# define wave speeds\n",
    "cpl = sympy.sqrt( (laml+2*mul)/rhol )\n",
    "cpr = sympy.sqrt( (lamr+2*mur)/rhor )\n",
    "csl = sympy.sqrt( mul / rhol )\n",
    "csr = sympy.sqrt( mur / rhor )\n",
    "\n",
    "# create trafos\n",
    "T = sympy.Matrix([\n",
    "  [nx*nx,  ny*ny, -2*nx*ny,        0,   0],\n",
    "  [ny*ny,  nx*nx,  2*nx*ny,        0,   0],\n",
    "  [nx*ny, -nx*ny,    nx*nx-ny*ny,  0,   0],\n",
    "  [    0,      0,              0, nx, -ny],\n",
    "  [    0,      0,              0, ny,  nx] ])\n",
    "\n",
    "Tm1 = sympy.Matrix([\n",
    "  [ nx*nx, ny*ny,  2*nx*ny,         0,  0],\n",
    "  [ ny*ny, nx*nx, -2*nx*ny,         0,  0],\n",
    "  [-nx*ny, nx*ny,    nx*nx-ny*ny,   0,  0],\n",
    "  [    0,      0,              0,  nx, ny],\n",
    "  [    0,      0,              0, -ny, nx] ])\n",
    "\n",
    "# create Jacobians\n",
    "Al = sympy.Matrix([\n",
    "  [0, 0, 0, -(laml+2*mul), 0],\n",
    "  [0, 0, 0, -laml, 0],\n",
    "  [0, 0, 0, 0, -mul],\n",
    "  [-1/rhol, 0, 0, 0, 0],\n",
    "  [0, 0, -1/rhol, 0, 0]])\n",
    "\n",
    "Ar = sympy.Matrix([\n",
    "  [0, 0, 0, -(lamr+2*mur), 0],\n",
    "  [0, 0, 0, -lamr, 0],\n",
    "  [0, 0, 0, 0, -mur],\n",
    "  [-1/rhor, 0, 0, 0, 0],\n",
    "  [0, 0, -1/rhor, 0, 0]])\n",
    "\n",
    "# print jacobians and trafo\n",
    "Al, Ar, T, Tm1"
   ]
  },
  {
   "cell_type": "code",
   "execution_count": null,
   "metadata": {
    "collapsed": false
   },
   "outputs": [],
   "source": [
    "# define matrix of right and left eigenvectors\n",
    "R = sympy.Matrix([\n",
    "  [laml+2*mul, 0, 0, 0, lamr+2*mur],\n",
    "  [laml, 0, 1, 0, lamr],\n",
    "  [0, mul, 0, mur, 0],\n",
    "  [cpl, 0, 0, 0, -cpr],\n",
    "  [0, csl, 0, -csr, 0]])\n",
    "\n",
    "R"
   ]
  },
  {
   "cell_type": "markdown",
   "metadata": {},
   "source": [
    "## Tests for homogeneous equations"
   ]
  },
  {
   "cell_type": "code",
   "execution_count": null,
   "metadata": {
    "collapsed": false,
    "scrolled": true
   },
   "outputs": [],
   "source": [
    "lam = sympy.symbols('lambda')\n",
    "mu  = sympy.symbols('mu')\n",
    "rho = sympy.symbols('rho')\n",
    "\n",
    "cp = sympy.sqrt( (lam+2*mu)/rho )\n",
    "cp = sympy.sqrt( (lam+2*mu)/rho )\n",
    "cs = sympy.sqrt( mu / rho )\n",
    "cs = sympy.sqrt( mu / rho )\n",
    "\n",
    "A = sympy.Matrix([\n",
    "  [0, 0, 0, -(lam+2*mu), 0],\n",
    "  [0, 0, 0, -lam, 0],\n",
    "  [0, 0, 0, 0, -mu],\n",
    "  [-1/rho, 0, 0, 0, 0],\n",
    "  [0, 0, -1/rho, 0, 0]])\n",
    "\n",
    "B = sympy.Matrix([\n",
    "  [0, 0, 0, 0, -lam ],\n",
    "  [0, 0, 0, 0, -(lam+2*mu) ],\n",
    "  [0, 0, 0, -mu, 0],\n",
    "  [0, 0, -1 / rho, 0, 0],\n",
    "  [0, -1 / rho, 0, 0, 0]])\n",
    "\n",
    "A,B"
   ]
  },
  {
   "cell_type": "markdown",
   "metadata": {},
   "source": [
    "### First variant: Using normal Jabobian"
   ]
  },
  {
   "cell_type": "code",
   "execution_count": null,
   "metadata": {
    "collapsed": false
   },
   "outputs": [],
   "source": [
    "An=nx*A+ny*B\n",
    "\n",
    "Rn = sympy.Matrix([\n",
    "  [lam+2*mu*nx**2, -2*mu*nx*ny, ny**2, -2*mu*nx*ny, lam+2*mu*nx**2],\n",
    "  [lam+2*mu*ny**2, 2*mu*nx*ny, nx*nx, 2*mu*nx*ny,  lam+2*mu*ny**2],\n",
    "  [2*mu*nx*ny, mu*(nx**2-ny**2), -nx*ny, mu*(nx**2-ny**2), 2*mu*nx*ny],\n",
    "  [nx*cp, -ny*cs, 0, ny*cs, -nx*cp],\n",
    "  [ny*cp, nx*cs, 0, -nx*cs, -ny*cp]])\n",
    "\n",
    "evals = sympy.diag( -cp,- cs, 0, cs, cp )\n",
    "\n",
    "#Pn,Dn = An.diagonalize()\n",
    "#Pn = sympy.simplify(Pn)\n",
    "\n",
    "# left flux solver\n",
    "Fln = 0.5* An + ( Rn*Dn.applyfunc(abs)*Rn**-1 )\n",
    "# right flux solver\n",
    "Frn = 0.5* An - ( Rn*Dn.applyfunc(abs)*Ln )\n",
    "\n",
    "Fln.subs([ (lam, 2), (mu,1), (rho,1), (nx,  1/sympy.sqrt(2)), (ny, 1/sympy.sqrt(2))    ]),\\\n",
    "Frn.subs([ (lam, 2), (mu,1), (rho,1), (nx,  1/sympy.sqrt(2)), (ny, 1/sympy.sqrt(2))    ])\n",
    "#Rn*Dn*Rn**-1\n",
    "Rn"
   ]
  },
  {
   "cell_type": "code",
   "execution_count": null,
   "metadata": {
    "collapsed": false
   },
   "outputs": [],
   "source": []
  },
  {
   "cell_type": "code",
   "execution_count": null,
   "metadata": {
    "collapsed": false
   },
   "outputs": [],
   "source": [
    "P,D = A.diagonalize()\n",
    "# left flux solver\n",
    "Fl = 0.5*T*(A+P*D.applyfunc(abs)*P**-1)*Tm1\n",
    "# right flux solver\n",
    "Fr = 0.5*T*(A-P*D.applyfunc(abs)*P**-1)*Tm1\n",
    "\n",
    "#A,\\\n",
    "#Fl.subs([ (lam, 2), (mu,1), (rho,1), (nx, -0.2),             (ny, sympy.sqrt(1-0.04)) ]),\\\n",
    "#Fr.subs([ (lam, 2), (mu,1), (rho,1), (nx, -0.2),             (ny, sympy.sqrt(1-0.04)) ]),\\\n",
    "#Fl.subs([ (lam, 2), (mu,1), (rho,1), (nx,  0.5),             (ny, -sympy.sqrt(0.75))  ]),\\\n",
    "#Fr.subs([ (lam, 2), (mu,1), (rho,1), (nx,  0.5),             (ny, -sympy.sqrt(0.75))  ]),\\\n",
    "Fl.subs([ (lam, 2), (mu,1), (rho,1), (nx,  1/sympy.sqrt(2)), (ny, 1/sympy.sqrt(2))    ]),\\\n",
    "Fr.subs([ (lam, 2), (mu,1), (rho,1), (nx,  1/sympy.sqrt(2)), (ny, 1/sympy.sqrt(2))    ])"
   ]
  },
  {
   "cell_type": "code",
   "execution_count": null,
   "metadata": {
    "collapsed": false
   },
   "outputs": [],
   "source": [
    "from sympy.utilities.codegen import codegen\n",
    "\n",
    "# how to use to matrix outputs in a single code generation? order of out_**** seems random.\n",
    "# for now we just generate two functions..\n",
    "codegen( ( \"compute2dHomFl\", Fln ),\n",
    "           \"C\",\n",
    "           project = \"EDGE\",\n",
    "           prefix=\"compute2dHomFl\",\n",
    "           to_files=True,\n",
    "           empty=True             )\n",
    "codegen( ( \"compute2dHomFr\", Frn ),\n",
    "           \"C\",\n",
    "           prefix=\"compute2dHomFr\",\n",
    "           to_files=True,\n",
    "           project = \"EDGE\",\n",
    "           empty=True             )"
   ]
  },
  {
   "cell_type": "markdown",
   "metadata": {
    "collapsed": true
   },
   "source": [
    "# 3D"
   ]
  },
  {
   "cell_type": "code",
   "execution_count": null,
   "metadata": {
    "collapsed": false
   },
   "outputs": [],
   "source": [
    "R = sympy.Matrix([\n",
    "  [laml+2*mul, 0,   0,   0, 0, 0, 0,    0,    lamr+2*mur],\n",
    "  [laml,       0,   0,   0, 1, 0, 0,    0,    lamr],\n",
    "  [laml,       0,   0,   0, 0, 1, 0,    0,    lamr],\n",
    "  [0,          mul, 0,   0, 0, 0, 0,    mur,  0],\n",
    "  [0,          0,   0,   1, 0, 0, 0,    0,    0],\n",
    "  [0,          0,   mul, 0, 0, 0, mur,  0,    0],\n",
    "  [cpl,        0,   0,   0, 0, 0, 0,    0,    -cpr],\n",
    "  [0,          csl, 0,   0, 0, 0, 0,    -csr, 0],\n",
    "  [0,          0,   csl, 0, 0, 0, -csr, 0,    0]])\n",
    "\n",
    "sympy.simplify( R.inv() )"
   ]
  },
  {
   "cell_type": "code",
   "execution_count": null,
   "metadata": {
    "collapsed": true
   },
   "outputs": [],
   "source": []
  }
 ],
 "metadata": {
  "kernelspec": {
   "display_name": "Python 2",
   "language": "python",
   "name": "python2"
  },
  "language_info": {
   "codemirror_mode": {
    "name": "ipython",
    "version": 2
   },
   "file_extension": ".py",
   "mimetype": "text/x-python",
   "name": "python",
   "nbconvert_exporter": "python",
   "pygments_lexer": "ipython2",
   "version": "2.7.13"
  }
 },
 "nbformat": 4,
 "nbformat_minor": 0
}
