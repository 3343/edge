{
 "cells": [
  {
   "cell_type": "code",
   "execution_count": null,
   "metadata": {
    "collapsed": true
   },
   "outputs": [],
   "source": [
    "##\n",
    "# @file This file is part of EDGE.\n",
    "#\n",
    "# @author Alexander Breuer (anbreuer AT ucsd.edu)\n",
    "#\n",
    "# @section LICENSE\n",
    "# Copyright (c) 2016, Regents of the University of California\n",
    "# All rights reserved.\n",
    "#\n",
    "# Redistribution and use in source and binary forms, with or without modification, are permitted provided that the following conditions are met:\n",
    "#\n",
    "# 1. Redistributions of source code must retain the above copyright notice, this list of conditions and the following disclaimer.\n",
    "#\n",
    "# 2. Redistributions in binary form must reproduce the above copyright notice, this list of conditions and the following disclaimer in the documentation and/or other materials provided with the distribution.\n",
    "#\n",
    "# 3. Neither the name of the copyright holder nor the names of its contributors may be used to endorse or promote products derived from this software without specific prior written permission.\n",
    "#\n",
    "# THIS SOFTWARE IS PROVIDED BY THE COPYRIGHT HOLDERS AND CONTRIBUTORS \"AS IS\" AND ANY EXPRESS OR IMPLIED WARRANTIES, INCLUDING, BUT NOT LIMITED TO, THE IMPLIED WARRANTIES OF MERCHANTABILITY AND FITNESS FOR A PARTICULAR PURPOSE ARE DISCLAIMED. IN NO EVENT SHALL THE COPYRIGHT HOLDER OR CONTRIBUTORS BE LIABLE FOR ANY DIRECT, INDIRECT, INCIDENTAL, SPECIAL, EXEMPLARY, OR CONSEQUENTIAL DAMAGES (INCLUDING, BUT NOT LIMITED TO, PROCUREMENT OF SUBSTITUTE GOODS OR SERVICES; LOSS OF USE, DATA, OR PROFITS; OR BUSINESS INTERRUPTION) HOWEVER CAUSED AND ON ANY THEORY OF LIABILITY, WHETHER IN CONTRACT, STRICT LIABILITY, OR TORT (INCLUDING NEGLIGENCE OR OTHERWISE) ARISING IN ANY WAY OUT OF THE USE OF THIS SOFTWARE, EVEN IF ADVISED OF THE POSSIBILITY OF SUCH DAMAGE.\n",
    "#\n",
    "# @section DESCRIPTION\n",
    "# Trafos from collapsed coords for derivation of quadrature points.\n",
    "##"
   ]
  },
  {
   "cell_type": "code",
   "execution_count": null,
   "metadata": {
    "collapsed": true
   },
   "outputs": [],
   "source": [
    "import sympy\n",
    "sympy.init_printing(use_unicode=True)"
   ]
  },
  {
   "cell_type": "markdown",
   "metadata": {},
   "source": [
    "# Tria3"
   ]
  },
  {
   "cell_type": "code",
   "execution_count": null,
   "metadata": {
    "collapsed": false
   },
   "outputs": [],
   "source": [
    "xi1 = sympy.symbols('xi_1') # first tetrahedral coord\n",
    "xi2 = sympy.symbols('xi_2') # second tetrahedral coord\n",
    "\n",
    "eta1 = sympy.symbols('eta_1') # first collapsed coord\n",
    "eta2 = sympy.symbols('eta_2') # scond collapsed coord\n",
    "\n",
    "# define trafors for our reference triangle with\n",
    "# xi1, xi2 > 0 and xi1^2 + xi2^2 < 1\n",
    "mapEta1 = sympy.Eq( ( (2+2*xi1)/(1-xi2) - 1 - eta1 ).subs(xi1, 2*xi1-1).subs(xi2, 2*xi2 - 1), 0 )\n",
    "mapEta2 = sympy.Eq( ( xi2                  - eta2  ).subs(xi1, 2*xi1-1).subs(xi2, 2*xi2 - 1), 0 )\n",
    "\n",
    "mapXi = sympy.solve( [mapEta1, mapEta2], [xi1, xi2]  )\n",
    "\n",
    "# build the jacobian\n",
    "jac = sympy.Matrix([\n",
    "  [ sympy.diff(mapXi[xi1], eta1), sympy.diff(mapXi[xi1], eta2) ],\n",
    "  [ sympy.diff(mapXi[xi2], eta1), sympy.diff(mapXi[xi2], eta2) ],\n",
    "])\n",
    "\n",
    "# print the trafo and det of the jacobian\n",
    "sympy.factor(mapXi[xi1]), sympy.factor(mapXi[xi2]), sympy.factor(jac.det())"
   ]
  },
  {
   "cell_type": "markdown",
   "metadata": {},
   "source": [
    "# Tet4"
   ]
  },
  {
   "cell_type": "code",
   "execution_count": null,
   "metadata": {
    "collapsed": true
   },
   "outputs": [],
   "source": [
    "xi1 = sympy.symbols('xi_1') # first tetrahedral coord\n",
    "xi2 = sympy.symbols('xi_2') # second tetrahedral coord\n",
    "xi3 = sympy.symbols('xi_3') # third tetrahedral coord\n",
    "\n",
    "eta1 = sympy.symbols('eta_1') # first collapsed coord\n",
    "eta2 = sympy.symbols('eta_2') # scond collapsed coord\n",
    "eta3 = sympy.symbols('eta_3') # third collapsed coord"
   ]
  },
  {
   "cell_type": "code",
   "execution_count": null,
   "metadata": {
    "collapsed": false
   },
   "outputs": [],
   "source": [
    "# define trafos for our reference tetrahedron with\n",
    "# xi1, xi2, xi3 > 0 and xi1^2 + xi2^2 + xi3^2 < 1\n",
    "mapEta1 = sympy.Eq( (2 * (1+xi1) / (-xi2-xi3) - 1 - eta1).subs(xi1, 2*xi1-1).subs(xi2, 2*xi2-1).subs(xi3, 2*xi3-1), 0 )\n",
    "mapEta2 = sympy.Eq( (2 * (1+xi2) / (1-xi3)    - 1 - eta2).subs(xi1, 2*xi1-1).subs(xi2, 2*xi2-1).subs(xi3, 2*xi3-1), 0 )\n",
    "mapEta3 = sympy.Eq( (xi3                          - eta3).subs(xi1, 2*xi1-1).subs(xi2, 2*xi2-1).subs(xi3, 2*xi3-1), 0 )\n",
    "\n",
    "mapXi = sympy.solve( [mapEta1, mapEta2, mapEta3], [xi1, xi2, xi3] )\n",
    "\n",
    "# build the jacobian\n",
    "jac = sympy.Matrix([\n",
    "  [ sympy.diff(mapXi[xi1], eta1), sympy.diff(mapXi[xi1], eta2), sympy.diff(mapXi[xi1], eta3) ],\n",
    "  [ sympy.diff(mapXi[xi2], eta1), sympy.diff(mapXi[xi2], eta2), sympy.diff(mapXi[xi2], eta3) ],\n",
    "  [ sympy.diff(mapXi[xi3], eta1), sympy.diff(mapXi[xi3], eta2), sympy.diff(mapXi[xi3], eta3) ],     \n",
    "])\n",
    "\n",
    "# spit out the trafo and determinant we need\n",
    "sympy.factor(mapXi[xi1]), sympy.factor(mapXi[xi2]), sympy.factor(mapXi[xi3]), sympy.factor(jac.det())"
   ]
  }
 ],
 "metadata": {
  "kernelspec": {
   "display_name": "Python 2",
   "language": "python",
   "name": "python2"
  },
  "language_info": {
   "codemirror_mode": {
    "name": "ipython",
    "version": 2
   },
   "file_extension": ".py",
   "mimetype": "text/x-python",
   "name": "python",
   "nbconvert_exporter": "python",
   "pygments_lexer": "ipython2",
   "version": "2.7.6"
  }
 },
 "nbformat": 4,
 "nbformat_minor": 0
}
