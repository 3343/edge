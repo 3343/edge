{
 "cells": [
  {
   "cell_type": "code",
   "execution_count": null,
   "metadata": {
    "collapsed": true
   },
   "outputs": [],
   "source": [
    "##\n",
    "# @file This file is part of EDGE.\n",
    "#\n",
    "# @author Alexander Breuer (anbreuer AT ucsd.edu)\n",
    "#\n",
    "# @section LICENSE\n",
    "# Copyright (c) 2016, Regents of the University of California\n",
    "# All rights reserved.\n",
    "#\n",
    "# Redistribution and use in source and binary forms, with or without modification, are permitted provided that the following conditions are met:\n",
    "#\n",
    "# 1. Redistributions of source code must retain the above copyright notice, this list of conditions and the following disclaimer.\n",
    "#\n",
    "# 2. Redistributions in binary form must reproduce the above copyright notice, this list of conditions and the following disclaimer in the documentation and/or other materials provided with the distribution.\n",
    "#\n",
    "# 3. Neither the name of the copyright holder nor the names of its contributors may be used to endorse or promote products derived from this software without specific prior written permission.\n",
    "#\n",
    "# THIS SOFTWARE IS PROVIDED BY THE COPYRIGHT HOLDERS AND CONTRIBUTORS \"AS IS\" AND ANY EXPRESS OR IMPLIED WARRANTIES, INCLUDING, BUT NOT LIMITED TO, THE IMPLIED WARRANTIES OF MERCHANTABILITY AND FITNESS FOR A PARTICULAR PURPOSE ARE DISCLAIMED. IN NO EVENT SHALL THE COPYRIGHT HOLDER OR CONTRIBUTORS BE LIABLE FOR ANY DIRECT, INDIRECT, INCIDENTAL, SPECIAL, EXEMPLARY, OR CONSEQUENTIAL DAMAGES (INCLUDING, BUT NOT LIMITED TO, PROCUREMENT OF SUBSTITUTE GOODS OR SERVICES; LOSS OF USE, DATA, OR PROFITS; OR BUSINESS INTERRUPTION) HOWEVER CAUSED AND ON ANY THEORY OF LIABILITY, WHETHER IN CONTRACT, STRICT LIABILITY, OR TORT (INCLUDING NEGLIGENCE OR OTHERWISE) ARISING IN ANY WAY OUT OF THE USE OF THIS SOFTWARE, EVEN IF ADVISED OF THE POSSIBILITY OF SUCH DAMAGE.\n",
    "#\n",
    "# @section DESCRIPTION\n",
    "# Derivation of basis functions and the attached matrices for triangular elements.\n",
    "##"
   ]
  },
  {
   "cell_type": "code",
   "execution_count": null,
   "metadata": {
    "collapsed": true
   },
   "outputs": [],
   "source": [
    "import sympy\n",
    "import matplotlib.pyplot\n",
    "sympy.init_printing(use_unicode=True)"
   ]
  },
  {
   "cell_type": "code",
   "execution_count": null,
   "metadata": {
    "collapsed": false
   },
   "outputs": [],
   "source": [
    "# upper polynomial degree\n",
    "l_degUp = 2\n",
    "\n",
    "# basis\n",
    "l_basis = []\n",
    "\n",
    "xi1 = sympy.symbols('xi_1') # first triangular coords\n",
    "xi2 = sympy.symbols('xi_2') # second triangular coord\n",
    "\n",
    "eta1 = sympy.symbols('eta_1') # first collapsed coord\n",
    "eta2 = sympy.symbols('eta_2') # scond collapsed coord\n",
    "\n",
    "# derive basis functions\n",
    "for l_order in xrange(0, l_degUp+1):\n",
    "  for l_p in xrange(0, l_order+1):\n",
    "    # first principal function\n",
    "    l_psiA = sympy.jacobi( l_p, 0, 0, eta1 )\n",
    "    \n",
    "    for l_q in xrange(0, l_order+1):\n",
    "      if( l_p + l_q == l_order  ): # build hierarchical basis following pascals triangle\n",
    "        # second principal function\n",
    "        l_psiB = ( ( (1-eta2)/2 )**l_p * sympy.jacobi( l_q, 2*l_p+1, 0, eta2 ) )\n",
    "\n",
    "        l_basis = l_basis + [l_psiA * l_psiB]\n",
    "        \n",
    "        # insert triangular coords\n",
    "        l_basis[-1] = l_basis[-1].subs( eta1, 2*(1+xi1)/(1-xi2) - 1 ).subs(eta2, xi2)\n",
    "        \n",
    "        # use triangle with xi1 in [0,1], xi2 in [0,1-xi1]\n",
    "        l_basis[-1] = l_basis[-1].subs(xi1, 2*xi1-1).subs(xi2, 2*xi2 - 1)\n",
    "        \n",
    "        # simplify the basis\n",
    "        l_basis[-1] = sympy.simplify( l_basis[-1] )"
   ]
  },
  {
   "cell_type": "code",
   "execution_count": null,
   "metadata": {
    "collapsed": false
   },
   "outputs": [],
   "source": [
    "# generate code for the basis\n",
    "print \"assert( b <\", len(l_basis), \");\"\n",
    "for l_b in xrange(0, len(l_basis)):\n",
    "  print \"if( b ==\", l_b, \") {\" \n",
    "  print \"  val =\", sympy.ccode( l_basis[l_b]  ).replace(\"pow\", \"std::pow\"), \";\"\n",
    "  print \"}\"\n",
    "\n",
    "# generate code for the derivatives\n",
    "print '*******************************'\n",
    "print \"assert( b <\", len(l_basis), \");\"\n",
    "for l_b in xrange(0, len(l_basis)):\n",
    "  print \"if( b ==\", l_b, \") {\" \n",
    "  print \"  valDxi1 =\", sympy.ccode( sympy.diff(l_basis[l_b], xi1)  ).replace(\"pow\", \"std::pow\"), \";\"\n",
    "  print \"}\"\n",
    "print '*******************************'\n",
    "print \"assert( b <\", len(l_basis), \");\"\n",
    "for l_b in xrange(0, len(l_basis)):\n",
    "  print \"if( b ==\", l_b, \") {\" \n",
    "  print \"  valDxi2 =\", sympy.ccode( sympy.diff(l_basis[l_b], xi2)  ).replace(\"pow\", \"std::pow\"), \";\"\n",
    "  print \"}\""
   ]
  },
  {
   "cell_type": "code",
   "execution_count": null,
   "metadata": {
    "collapsed": false
   },
   "outputs": [],
   "source": [
    "# triangular integration\n",
    "l_fInt = lambda bf: sympy.integrate( bf, (xi1, 0, 1-xi2), (xi2, 0, 1) )\n",
    "l_diffXi1 = lambda bf: sympy.diff( bf, xi1)\n",
    "l_diffXi2 = lambda bf: sympy.diff( bf, xi2)\n",
    "\n",
    "\n",
    "# compute mass matrix\n",
    "l_mm = sympy.Matrix( l_basis ) * sympy.Matrix.transpose( sympy.Matrix( l_basis ) )\n",
    "l_mm = l_mm.applyfunc( l_fInt)\n",
    "\n",
    "# compute stiffness matrices\n",
    "l_sm1 = sympy.Matrix.transpose( sympy.Matrix( l_basis ) )\n",
    "l_sm1 = l_sm1.applyfunc( l_diffXi1 )\n",
    "l_sm1 = sympy.Matrix( l_basis ) * l_sm1\n",
    "l_sm1 = l_sm1.applyfunc( l_fInt )\n",
    "\n",
    "l_sm2 = sympy.Matrix.transpose( sympy.Matrix( l_basis ) )\n",
    "l_sm2 = l_sm2.applyfunc( l_diffXi2 )\n",
    "l_sm2 = sympy.Matrix( l_basis ) * l_sm2\n",
    "l_sm2 = l_sm2.applyfunc( l_fInt )"
   ]
  },
  {
   "cell_type": "code",
   "execution_count": null,
   "metadata": {
    "collapsed": false
   },
   "outputs": [],
   "source": [
    "# compute flux matrices\n",
    "l_localFm = dict()\n",
    "l_neighFm = dict()\n",
    "\n",
    "chi = sympy.symbols('chi')\n",
    "\n",
    "# local face\n",
    "for l_f1 in xrange(0,3):\n",
    "  # determine basis\n",
    "  l_basisF1 = []\n",
    "  for l_bf in xrange(0, len(l_basis)):\n",
    "    if   l_f1 == 0: l_basisF1 = l_basisF1 + [ l_basis[l_bf].subs(xi1, chi   ).subs( xi2, 0)     ]\n",
    "    elif l_f1 == 1: l_basisF1 = l_basisF1 + [ l_basis[l_bf].subs(xi1, 1-chi ).subs( xi2, chi)   ]\n",
    "    elif l_f1 == 2: l_basisF1 = l_basisF1 + [ l_basis[l_bf].subs(xi1, 0     ).subs( xi2, 1-chi) ]\n",
    "        \n",
    "  # assemnle flux matrix\n",
    "  l_localFm['fm'+str(l_f1)] = sympy.Matrix( l_basisF1 ) * \\\n",
    "                              sympy.Matrix.transpose( sympy.Matrix( l_basisF1 ))\n",
    "    \n",
    "  # do the integration\n",
    "  l_localFm['fm'+str(l_f1)] = sympy.integrate( l_localFm['fm'+str(l_f1)], (chi, 0, 1) )\n",
    "    \n",
    "  # neighboring face\n",
    "  for l_f2 in xrange(0,3):\n",
    "    # basis at face, where chi is the shared integration parameter\n",
    "    l_basisF2 = []\n",
    "    \n",
    "    # iterate over basis functions\n",
    "    for l_bf in xrange(0, len(l_basis)):\n",
    "      if   l_f2 == 0: l_basisF2 = l_basisF2 + [ l_basis[l_bf].subs(xi1, 1-chi   ).subs( xi2, 0)   ]\n",
    "      elif l_f2 == 1: l_basisF2 = l_basisF2 + [ l_basis[l_bf].subs(xi1, chi   ).subs( xi2, 1-chi) ]\n",
    "      elif l_f2 == 2: l_basisF2 = l_basisF2 + [ l_basis[l_bf].subs(xi1, 0     ).subs( xi2, chi)   ]\n",
    "\n",
    "    # assemble the flux matrix\n",
    "    l_neighFm['fp'+str(l_f1)+str(l_f2)] = sympy.Matrix( l_basisF2 ) * \\\n",
    "                                          sympy.Matrix.transpose( sympy.Matrix( l_basisF1 ))\n",
    "\n",
    "    # do the integration\n",
    "    l_neighFm['fp'+str(l_f1)+str(l_f2)] = sympy.integrate( l_neighFm['fp'+str(l_f1)+str(l_f2)], (chi, 0, 1) )"
   ]
  },
  {
   "cell_type": "code",
   "execution_count": null,
   "metadata": {
    "collapsed": false
   },
   "outputs": [],
   "source": [
    "l_mm,l_sm1, l_sm2, l_localFm, l_neighFm"
   ]
  }
 ],
 "metadata": {
  "kernelspec": {
   "display_name": "Python 2",
   "language": "python",
   "name": "python2"
  },
  "language_info": {
   "codemirror_mode": {
    "name": "ipython",
    "version": 2
   },
   "file_extension": ".py",
   "mimetype": "text/x-python",
   "name": "python",
   "nbconvert_exporter": "python",
   "pygments_lexer": "ipython2",
   "version": "2.7.6"
  }
 },
 "nbformat": 4,
 "nbformat_minor": 0
}
