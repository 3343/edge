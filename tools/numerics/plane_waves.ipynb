{
 "cells": [
  {
   "cell_type": "code",
   "execution_count": null,
   "metadata": {
    "collapsed": true
   },
   "outputs": [],
   "source": [
    "##\n",
    "# @file This file is part of EDGE.\n",
    "#\n",
    "# @author Alexander Breuer (anbreuer AT ucsd.edu)\n",
    "#\n",
    "# @section LICENSE\n",
    "# Copyright (c) 2016, Regents of the University of California\n",
    "# All rights reserved.\n",
    "#\n",
    "# Redistribution and use in source and binary forms, with or without modification, are permitted provided that the following conditions are met:\n",
    "#\n",
    "# 1. Redistributions of source code must retain the above copyright notice, this list of conditions and the following disclaimer.\n",
    "#\n",
    "# 2. Redistributions in binary form must reproduce the above copyright notice, this list of conditions and the following disclaimer in the documentation and/or other materials provided with the distribution.\n",
    "#\n",
    "# 3. Neither the name of the copyright holder nor the names of its contributors may be used to endorse or promote products derived from this software without specific prior written permission.\n",
    "#\n",
    "# THIS SOFTWARE IS PROVIDED BY THE COPYRIGHT HOLDERS AND CONTRIBUTORS \"AS IS\" AND ANY EXPRESS OR IMPLIED WARRANTIES, INCLUDING, BUT NOT LIMITED TO, THE IMPLIED WARRANTIES OF MERCHANTABILITY AND FITNESS FOR A PARTICULAR PURPOSE ARE DISCLAIMED. IN NO EVENT SHALL THE COPYRIGHT HOLDER OR CONTRIBUTORS BE LIABLE FOR ANY DIRECT, INDIRECT, INCIDENTAL, SPECIAL, EXEMPLARY, OR CONSEQUENTIAL DAMAGES (INCLUDING, BUT NOT LIMITED TO, PROCUREMENT OF SUBSTITUTE GOODS OR SERVICES; LOSS OF USE, DATA, OR PROFITS; OR BUSINESS INTERRUPTION) HOWEVER CAUSED AND ON ANY THEORY OF LIABILITY, WHETHER IN CONTRACT, STRICT LIABILITY, OR TORT (INCLUDING NEGLIGENCE OR OTHERWISE) ARISING IN ANY WAY OUT OF THE USE OF THIS SOFTWARE, EVEN IF ADVISED OF THE POSSIBILITY OF SUCH DAMAGE.\n",
    "#\n",
    "# @section DESCRIPTION\n",
    "# Derives the matrix of eigenvectors of normal jacobian used for benchmarking via plane waves\n",
    "##"
   ]
  },
  {
   "cell_type": "code",
   "execution_count": null,
   "metadata": {
    "collapsed": false
   },
   "outputs": [],
   "source": [
    "import sympy\n",
    "sympy.init_printing(use_unicode=True)"
   ]
  },
  {
   "cell_type": "code",
   "execution_count": null,
   "metadata": {
    "collapsed": false
   },
   "outputs": [],
   "source": [
    "# create the symbols\n",
    "lam = sympy.symbols('lambda')\n",
    "mu  = sympy.symbols('mu')\n",
    "rho = sympy.symbols('rho')\n",
    "nx  = sympy.symbols('n_x')\n",
    "ny  = sympy.symbols('n_y')\n",
    "nz  = sympy.symbols('n_z')"
   ]
  },
  {
   "cell_type": "markdown",
   "metadata": {},
   "source": [
    "# 2D"
   ]
  },
  {
   "cell_type": "code",
   "execution_count": null,
   "metadata": {
    "collapsed": false
   },
   "outputs": [],
   "source": [
    "# create Jacobians\n",
    "A = sympy.Matrix([\n",
    "  [0, 0, 0, -(lam+2*mu), 0],\n",
    "  [0, 0, 0, -lam, 0],\n",
    "  [0, 0, 0, 0, -mu],\n",
    "  [-1/rho, 0, 0, 0, 0],\n",
    "  [0, 0, -1/rho, 0, 0]])\n",
    "\n",
    "B = sympy.Matrix([\n",
    "  [0, 0, 0, 0, -lam],\n",
    "  [0, 0, 0, 0, -(lam+2*mu)],\n",
    "  [0, 0, 0, -mu, 0],\n",
    "  [0, 0, -1/rho, 0, 0],\n",
    "  [0, -1/rho, 0, 0, 0]])\n",
    "\n",
    "# derive normal jacobian\n",
    "An = nx * A + ny * B\n",
    "\n",
    "# replace with fixed values\n",
    "An = An.subs([ (lam, 2), (mu,1), (rho,1),\\\n",
    "               (nx,  1/sympy.sqrt(3)), (ny, 1/sympy.sqrt(3)) ])\n",
    "\n",
    "\n",
    "# derive eigenvectors of normal jacobiab\n",
    "Rn = An.eigenvects()"
   ]
  },
  {
   "cell_type": "code",
   "execution_count": null,
   "metadata": {
    "collapsed": false
   },
   "outputs": [],
   "source": [
    "A, B, An, Rn"
   ]
  },
  {
   "cell_type": "markdown",
   "metadata": {},
   "source": [
    "# 3D"
   ]
  },
  {
   "cell_type": "code",
   "execution_count": null,
   "metadata": {
    "collapsed": false
   },
   "outputs": [],
   "source": [
    "# create Jacobians\n",
    "A = sympy.Matrix([\n",
    "  [0, 0, 0, 0, 0, 0, -(lam+2*mu), 0, 0],\n",
    "  [0, 0, 0, 0, 0, 0, -lam, 0, 0],\n",
    "  [0, 0, 0, 0, 0, 0, -lam, 0, 0],\n",
    "  [0, 0, 0, 0, 0, 0, 0, -mu, 0],\n",
    "  [0, 0, 0, 0, 0, 0, 0, 0, 0],\n",
    "  [0, 0, 0, 0, 0, 0, 0, 0, -mu],\n",
    "  [-1/rho, 0, 0, 0, 0, 0, 0, 0, 0],\n",
    "  [0, 0, 0, -1/rho, 0, 0, 0, 0, 0],\n",
    "  [0, 0, 0, 0, 0, -1/rho, 0, 0, 0]])\n",
    "\n",
    "B = sympy.Matrix([\n",
    "  [0, 0, 0, 0, 0, 0, 0, -lam, 0],\n",
    "  [0, 0, 0, 0, 0, 0, 0, -(lam+2*mu), 0],\n",
    "  [0, 0, 0, 0, 0, 0, 0, -lam, 0],\n",
    "  [0, 0, 0, 0, 0, 0, -mu, 0, 0],\n",
    "  [0, 0, 0, 0, 0, 0, 0, 0, -mu],\n",
    "  [0, 0, 0, 0, 0, 0, 0, 0, 0],\n",
    "  [0, 0, 0, -1/rho, 0, 0, 0, 0, 0],\n",
    "  [0, -1/rho, 0, 0, 0, 0, 0, 0, 0],\n",
    "  [0, 0, 0, 0, -1/rho, 0, 0, 0, 0]])\n",
    "\n",
    "C = sympy.Matrix([\n",
    "  [0, 0, 0, 0, 0, 0, 0, 0, -lam],\n",
    "  [0, 0, 0, 0, 0, 0, 0, 0, -lam],\n",
    "  [0, 0, 0, 0, 0, 0, 0, 0, -(lam+2*mu)],\n",
    "  [0, 0, 0, 0, 0, 0, 0, 0, 0],\n",
    "  [0, 0, 0, 0, 0, 0, 0, -mu, 0],\n",
    "  [0, 0, 0, 0, 0, 0, -mu, 0, 0],\n",
    "  [0, 0, 0, 0, 0, -1/rho, 0, 0, 0],\n",
    "  [0, 0, 0, 0, -1/rho, 0, 0, 0, 0],\n",
    "  [0, 0, -1/rho, 0, 0, 0, 0, 0, 0]])\n",
    "\n",
    "# derive normal Jacobian\n",
    "An = nx * A + ny * B + nz * C\n",
    "\n",
    "# replace with fixed values\n",
    "An = An.subs([ (lam, 2), (mu,1), (rho,1),\\\n",
    "               (nx,  1/sympy.sqrt(3)), (ny, 1/sympy.sqrt(3)), (nz, 1/sympy.sqrt(3)) ])\n",
    "\n",
    "\n",
    "# derive eigenvectors of normal jacobiab\n",
    "Rn = An.eigenvects()"
   ]
  },
  {
   "cell_type": "code",
   "execution_count": null,
   "metadata": {
    "collapsed": false
   },
   "outputs": [],
   "source": [
    "A,B,C, sympy.simplify( Rn )"
   ]
  },
  {
   "cell_type": "code",
   "execution_count": null,
   "metadata": {
    "collapsed": true
   },
   "outputs": [],
   "source": []
  }
 ],
 "metadata": {
  "kernelspec": {
   "display_name": "Python 2",
   "language": "python",
   "name": "python2"
  },
  "language_info": {
   "codemirror_mode": {
    "name": "ipython",
    "version": 2
   },
   "file_extension": ".py",
   "mimetype": "text/x-python",
   "name": "python",
   "nbconvert_exporter": "python",
   "pygments_lexer": "ipython2",
   "version": "2.7.6"
  }
 },
 "nbformat": 4,
 "nbformat_minor": 0
}
