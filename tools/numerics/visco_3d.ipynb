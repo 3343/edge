{
 "cells": [
  {
   "cell_type": "code",
   "execution_count": null,
   "metadata": {},
   "outputs": [],
   "source": [
    "import sympy\n",
    "sympy.init_printing(use_unicode=True)\n",
    "\n",
    "# Lame parameters + density\n",
    "la = sympy.symbols('lambda', real=True)\n",
    "mu = sympy.symbols('mu', real=True)\n",
    "rh = sympy.symbols('rho', real=True)\n",
    "o1 = sympy.symbols('omega_1', real=True)\n",
    "o2 = sympy.symbols('omega_2', real=True)\n",
    "\n",
    "# left an right Lame parameters + density\n",
    "lal = sympy.symbols('lambda_l', real=True)\n",
    "lar = sympy.symbols('lambda_r', real=True)\n",
    "mul = sympy.symbols('mu_l', real=True)\n",
    "mur = sympy.symbols('mu_r', real=True)\n",
    "rhl = sympy.symbols('rho_l', real=True)\n",
    "rhr = sympy.symbols('rho_r', real=True)\n",
    "o1l = sympy.symbols('o1_l', real=True)\n",
    "o1r = sympy.symbols('o1_r', real=True)\n",
    "o2l = sympy.symbols('o2_l', real=True)\n",
    "o2r = sympy.symbols('o2_r', real=True)\n",
    "\n",
    "la, mu, rh, o1, o2, lal, lar, mul, mur, rhl, rhr, o1l, o1r, o2l, o2r"
   ]
  },
  {
   "cell_type": "code",
   "execution_count": null,
   "metadata": {},
   "outputs": [],
   "source": [
    "# elastic Jacobian matrix\n",
    "Ae = sympy.Matrix(\n",
    " [\n",
    "   [ 0, 0, 0,  0, 0, 0,  -(la+2*mu), 0, 0],\n",
    "   [ 0, 0, 0,  0, 0, 0,  -la, 0, 0],\n",
    "   [ 0, 0, 0,  0, 0, 0,  -la, 0, 0],\n",
    "  \n",
    "   [ 0, 0, 0,  0, 0, 0,  0, -mu, 0],\n",
    "   [ 0, 0, 0,  0, 0, 0,  0, 0, 0],\n",
    "   [ 0, 0, 0,  0, 0, 0,  0, 0, -mu],\n",
    "\n",
    "   [ -1/rh, 0, 0,  0, 0, 0,  0, 0, 0],\n",
    "   [ 0, 0, 0,  -1/rh, 0, 0,  0, 0, 0],\n",
    "   [ 0, 0, 0,  0, 0, -1/rh,  0, 0, 0]\n",
    " ]\n",
    ")\n",
    "\n",
    "# viscoelastic Jacobian matrix\n",
    "Av = sympy.Matrix(\n",
    " [\n",
    "   [ 0, 0, 0,  0, 0, 0,  -1, 0, 0 ],\n",
    "   [ 0, 0, 0,  0, 0, 0,  0, 0, 0 ],\n",
    "   [ 0, 0, 0,  0, 0, 0,  0, 0, 0 ],\n",
    "  \n",
    "   [ 0, 0, 0,  0, 0, 0,  0, -sympy.Rational(1, 2), 0 ],\n",
    "   [ 0, 0, 0,  0, 0, 0,  0, 0, 0,],\n",
    "   [ 0, 0, 0,  0, 0, 0,  0, 0, -sympy.Rational(1, 2)]\n",
    " ]\n",
    ")\n",
    "Ae, Av"
   ]
  },
  {
   "cell_type": "code",
   "execution_count": null,
   "metadata": {},
   "outputs": [],
   "source": [
    "Ae.eigenvects()"
   ]
  },
  {
   "cell_type": "code",
   "execution_count": null,
   "metadata": {},
   "outputs": [],
   "source": [
    "#sympy.BlockMatrix( sympy.BlockMatrix( [ Ae, Av ] ), sympy.ZeroMatrix(15,1) )\n",
    "nzBlock = sympy.Matrix( [Ae, o1*Av, o2*Av] )\n",
    "jac = sympy.Matrix( [ nzBlock.transpose(), sympy.zeros(12,21) ] ).transpose()\n",
    "\n",
    "sympy.factor( jac.eigenvects() )"
   ]
  },
  {
   "cell_type": "code",
   "execution_count": null,
   "metadata": {},
   "outputs": [],
   "source": [
    "P, D = jac.diagonalize()\n",
    "\n",
    "# replace by element-local value to account for material interfaces\n",
    "for mat in [P, D]:\n",
    "  for le in [3,4,7]:\n",
    "    mat[:,12+le] = mat[:,12+le].subs( la, lal )\n",
    "    mat[:,12+le] = mat[:,12+le].subs( mu, mul )\n",
    "    mat[:,12+le] = mat[:,12+le].subs( rh, rhl )\n",
    "    mat[:,12+le] = mat[:,12+le].subs( o1, o1l )\n",
    "    mat[:,12+le] = mat[:,12+le].subs( o2, o2l )\n",
    "\n",
    "  for le in [5,6,8]:\n",
    "    mat[:,12+le] = mat[:,12+le].subs( la, lar )\n",
    "    mat[:,12+le] = mat[:,12+le].subs( mu, mur )\n",
    "    mat[:,12+le] = mat[:,12+le].subs( rh, rhr )\n",
    "    mat[:,12+le] = mat[:,12+le].subs( o1, o1r )\n",
    "    mat[:,12+le] = mat[:,12+le].subs( o2, o2r )\n",
    "    \n",
    "D, P"
   ]
  },
  {
   "cell_type": "code",
   "execution_count": null,
   "metadata": {},
   "outputs": [],
   "source": [
    "import copy\n",
    "Pn = copy.deepcopy(P)\n",
    "Pn[:,0:15] = sympy.zeros(21,15)\n",
    "Pn[:,17:19] = sympy.zeros(21,2)\n",
    "Pn[:,20] = sympy.zeros(21,1)\n",
    "Pn * P.inv()"
   ]
  },
  {
   "cell_type": "code",
   "execution_count": null,
   "metadata": {},
   "outputs": [],
   "source": [
    "jacL = copy.deepcopy(jac)\n",
    "jacL = jacL.subs( la, lal )\n",
    "jacL = jacL.subs( mu, mul )\n",
    "jacL = jacL.subs( rh, rhl )\n",
    "jacL = jacL.subs( o1, o1l )\n",
    "jacL = jacL.subs( o2, o2l )\n",
    "\n",
    "\n",
    "#sympy.factor( jacL * Pn * P.inv() )[0:9,:], sympy.factor( jacL * Pn * P.inv() )[9:15,:], sympy.factor( jacL * Pn * P.inv() )[15:21,:]\n",
    "sympy.factor( jacL * Pn * P.inv() )[9:15,0:9]"
   ]
  },
  {
   "cell_type": "code",
   "execution_count": null,
   "metadata": {},
   "outputs": [],
   "source": [
    "#sympy.factor( jacL - jacL * Pn * P.inv() )[0:9,:], sympy.factor( jacL * Pn * P.inv() )[9:15,:], sympy.factor( jacL * Pn * P.inv() )[15:21,:]\n",
    "sympy.factor( jacL - jacL * Pn * P.inv() )[9:15,0:9]"
   ]
  },
  {
   "cell_type": "code",
   "execution_count": null,
   "metadata": {},
   "outputs": [],
   "source": [
    "# unit tests\n",
    "sympy.N( ( jacL - jacL * Pn * P.inv() )[9:15,0:9].subs( lal, 20.8E9 ).subs( lar, 19.4E9  )\\\n",
    "                                                 .subs( mul, 10.4E9 ).subs( mur, 13.1E9) )\\\n",
    "                                                 .subs( rhl,  1.2E3 ).subs( rhr, 1.1E3   )\\\n",
    "                                                 .subs( o1l, 1 )"
   ]
  },
  {
   "cell_type": "code",
   "execution_count": null,
   "metadata": {},
   "outputs": [],
   "source": [
    "sympy.N( (        jacL * Pn * P.inv() )[9:15,0:9].subs( lal, 20.8E9 ).subs( lar, 19.4E9  )\\\n",
    "                                                 .subs( mul, 10.4E9 ).subs( mur, 13.1E9) )\\\n",
    "                                                 .subs( rhl,  1.2E3 ).subs( rhr, 1.1E3   )\\\n",
    "                                                 .subs( o1l, 1 )"
   ]
  }
 ],
 "metadata": {
  "kernelspec": {
   "display_name": "Python 3",
   "language": "python",
   "name": "python3"
  },
  "language_info": {
   "codemirror_mode": {
    "name": "ipython",
    "version": 3
   },
   "file_extension": ".py",
   "mimetype": "text/x-python",
   "name": "python",
   "nbconvert_exporter": "python",
   "pygments_lexer": "ipython3",
   "version": "3.7.3"
  }
 },
 "nbformat": 4,
 "nbformat_minor": 2
}
