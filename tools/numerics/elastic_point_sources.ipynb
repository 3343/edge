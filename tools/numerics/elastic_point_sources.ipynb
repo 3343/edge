{
 "cells": [
  {
   "cell_type": "code",
   "execution_count": null,
   "metadata": {
    "collapsed": true
   },
   "outputs": [],
   "source": [
    "##\n",
    "# @file This file is part of EDGE.\n",
    "#\n",
    "# @author Alexander Breuer (anbreuer AT ucsd.edu)\n",
    "#\n",
    "# @section LICENSE\n",
    "# Copyright (c) 2016, Regents of the University of California\n",
    "# All rights reserved.\n",
    "#\n",
    "# Redistribution and use in source and binary forms, with or without modification, are permitted provided that the following conditions are met:\n",
    "#\n",
    "# 1. Redistributions of source code must retain the above copyright notice, this list of conditions and the following disclaimer.\n",
    "#\n",
    "# 2. Redistributions in binary form must reproduce the above copyright notice, this list of conditions and the following disclaimer in the documentation and/or other materials provided with the distribution.\n",
    "#\n",
    "# 3. Neither the name of the copyright holder nor the names of its contributors may be used to endorse or promote products derived from this software without specific prior written permission.\n",
    "#\n",
    "# THIS SOFTWARE IS PROVIDED BY THE COPYRIGHT HOLDERS AND CONTRIBUTORS \"AS IS\" AND ANY EXPRESS OR IMPLIED WARRANTIES, INCLUDING, BUT NOT LIMITED TO, THE IMPLIED WARRANTIES OF MERCHANTABILITY AND FITNESS FOR A PARTICULAR PURPOSE ARE DISCLAIMED. IN NO EVENT SHALL THE COPYRIGHT HOLDER OR CONTRIBUTORS BE LIABLE FOR ANY DIRECT, INDIRECT, INCIDENTAL, SPECIAL, EXEMPLARY, OR CONSEQUENTIAL DAMAGES (INCLUDING, BUT NOT LIMITED TO, PROCUREMENT OF SUBSTITUTE GOODS OR SERVICES; LOSS OF USE, DATA, OR PROFITS; OR BUSINESS INTERRUPTION) HOWEVER CAUSED AND ON ANY THEORY OF LIABILITY, WHETHER IN CONTRACT, STRICT LIABILITY, OR TORT (INCLUDING NEGLIGENCE OR OTHERWISE) ARISING IN ANY WAY OUT OF THE USE OF THIS SOFTWARE, EVEN IF ADVISED OF THE POSSIBILITY OF SUCH DAMAGE.\n",
    "#\n",
    "# @section DESCRIPTION\n",
    "# Seismic point sources.\n",
    "##"
   ]
  },
  {
   "cell_type": "code",
   "execution_count": null,
   "metadata": {
    "collapsed": true
   },
   "outputs": [],
   "source": [
    "import sympy\n",
    "sympy.init_printing(use_unicode=True)"
   ]
  },
  {
   "cell_type": "code",
   "execution_count": null,
   "metadata": {
    "collapsed": false
   },
   "outputs": [],
   "source": [
    "# Reference: Accurate Calculation of Fault-Rupture Models Using the High-Order\n",
    "#            Discontinuous Galerkin Method on Tetrahedral Meshes\n",
    "#            M. Kaeser, M. Mai, M. Dumbser\n",
    "\n",
    "l_lam = sympy.symbols('lambda')\n",
    "l_del = sympy.symbols('delta')\n",
    "l_phi = sympy.symbols('phi')\n",
    "\n",
    "R00 =  sympy.cos(l_lam) * sympy.cos(l_phi) + sympy.sin(l_lam) * sympy.cos(l_del) * sympy.sin(l_phi)\n",
    "R01 = -sympy.cos(l_lam) * sympy.sin(l_phi) + sympy.sin(l_lam) * sympy.cos(l_del) * sympy.cos(l_phi)\n",
    "R02 =  sympy.sin(l_lam) * sympy.sin(l_del)\n",
    "\n",
    "R10 = -sympy.sin(l_lam) * sympy.cos(l_phi) + sympy.cos(l_lam) * sympy.cos(l_del) * sympy.sin(l_phi)\n",
    "R11 =  sympy.sin(l_lam) * sympy.sin(l_phi) + sympy.cos(l_lam) * sympy.cos(l_del) * sympy.cos(l_phi)\n",
    "R12 = -sympy.cos(l_lam) * sympy.sin(l_del)\n",
    "\n",
    "R20 =  sympy.sin(l_del) * sympy.sin(l_phi)\n",
    "R21 =  sympy.sin(l_del) * sympy.cos(l_phi)\n",
    "R22 =  sympy.cos(l_del)\n",
    "\n",
    "# define rotation matrix\n",
    "R = sympy.Matrix([ [R00, R01, R02],\n",
    "                   [R10, R11, R12],\n",
    "                   [R20, R21, R22] ] )\n",
    "\n",
    "# define seismic-moment tensor\n",
    "m = sympy.MatrixSymbol('m', 3, 3)\n",
    "M = sympy.Matrix( m )"
   ]
  },
  {
   "cell_type": "code",
   "execution_count": null,
   "metadata": {
    "collapsed": false
   },
   "outputs": [],
   "source": [
    "# rotation of seismic-moment tensor\n",
    "evaR = R.subs( l_phi, 0 ).subs( l_del, sympy.pi ).subs( l_lam, 0 )\n",
    "evaR.T * M * evaR"
   ]
  },
  {
   "cell_type": "code",
   "execution_count": null,
   "metadata": {
    "collapsed": false
   },
   "outputs": [],
   "source": [
    "# moment-rate time history\n",
    "l_t = sympy.symbols('t')\n",
    "l_T = sympy.symbols('T')\n",
    "spice_mrth = l_t / l_T**2 * sympy.exp( -l_t / l_T )\n",
    "\n",
    "sympy.integrate(spice_mrth, l_t)"
   ]
  }
 ],
 "metadata": {
  "kernelspec": {
   "display_name": "Python 2",
   "language": "python",
   "name": "python2"
  },
  "language_info": {
   "codemirror_mode": {
    "name": "ipython",
    "version": 2
   },
   "file_extension": ".py",
   "mimetype": "text/x-python",
   "name": "python",
   "nbconvert_exporter": "python",
   "pygments_lexer": "ipython2",
   "version": "2.7.9"
  }
 },
 "nbformat": 4,
 "nbformat_minor": 1
}
