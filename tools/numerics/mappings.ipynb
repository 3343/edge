{
 "cells": [
  {
   "cell_type": "code",
   "execution_count": null,
   "metadata": {
    "collapsed": true
   },
   "outputs": [],
   "source": [
    "##\n",
    "# @file This file is part of EDGE.\n",
    "#\n",
    "# @author Alexander Breuer (anbreuer AT ucsd.edu)\n",
    "#\n",
    "# @section LICENSE\n",
    "# Copyright (c) 2016, Regents of the University of California\n",
    "# All rights reserved.\n",
    "#\n",
    "# Redistribution and use in source and binary forms, with or without modification, are permitted provided that the following conditions are met:\n",
    "#\n",
    "# 1. Redistributions of source code must retain the above copyright notice, this list of conditions and the following disclaimer.\n",
    "#\n",
    "# 2. Redistributions in binary form must reproduce the above copyright notice, this list of conditions and the following disclaimer in the documentation and/or other materials provided with the distribution.\n",
    "#\n",
    "# 3. Neither the name of the copyright holder nor the names of its contributors may be used to endorse or promote products derived from this software without specific prior written permission.\n",
    "#\n",
    "# THIS SOFTWARE IS PROVIDED BY THE COPYRIGHT HOLDERS AND CONTRIBUTORS \"AS IS\" AND ANY EXPRESS OR IMPLIED WARRANTIES, INCLUDING, BUT NOT LIMITED TO, THE IMPLIED WARRANTIES OF MERCHANTABILITY AND FITNESS FOR A PARTICULAR PURPOSE ARE DISCLAIMED. IN NO EVENT SHALL THE COPYRIGHT HOLDER OR CONTRIBUTORS BE LIABLE FOR ANY DIRECT, INDIRECT, INCIDENTAL, SPECIAL, EXEMPLARY, OR CONSEQUENTIAL DAMAGES (INCLUDING, BUT NOT LIMITED TO, PROCUREMENT OF SUBSTITUTE GOODS OR SERVICES; LOSS OF USE, DATA, OR PROFITS; OR BUSINESS INTERRUPTION) HOWEVER CAUSED AND ON ANY THEORY OF LIABILITY, WHETHER IN CONTRACT, STRICT LIABILITY, OR TORT (INCLUDING NEGLIGENCE OR OTHERWISE) ARISING IN ANY WAY OUT OF THE USE OF THIS SOFTWARE, EVEN IF ADVISED OF THE POSSIBILITY OF SUCH DAMAGE.\n",
    "#\n",
    "# @section DESCRIPTION\n",
    "# Mappings.\n",
    "##"
   ]
  },
  {
   "cell_type": "code",
   "execution_count": null,
   "metadata": {
    "collapsed": true
   },
   "outputs": [],
   "source": [
    "import sympy\n",
    "import matplotlib.pyplot\n",
    "sympy.init_printing(use_unicode=True)"
   ]
  },
  {
   "cell_type": "code",
   "execution_count": null,
   "metadata": {
    "collapsed": false
   },
   "outputs": [],
   "source": [
    "# symbols\n",
    "xi = sympy.symbols('xi')\n",
    "eta = sympy.symbols('eta')\n",
    "\n",
    "# physical vertex coords\n",
    "x1 = sympy.symbols('x1')\n",
    "x2 = sympy.symbols('x2')\n",
    "x3 = sympy.symbols('x3')\n",
    "x4 = sympy.symbols('x4')\n",
    "y1 = sympy.symbols('y1')\n",
    "y2 = sympy.symbols('y2')\n",
    "y3 = sympy.symbols('y3')\n",
    "y4 = sympy.symbols('y4')"
   ]
  },
  {
   "cell_type": "markdown",
   "metadata": {},
   "source": [
    "# Quads"
   ]
  },
  {
   "cell_type": "code",
   "execution_count": null,
   "metadata": {
    "collapsed": false
   },
   "outputs": [],
   "source": [
    "map_x =   x1*( (1-xi)*(1-eta) ) \\\n",
    "        + x2*( (1-xi)*  eta   ) \\\n",
    "        + x3*(    xi *  eta   ) \\\n",
    "        + x4*(    xi *(1-eta) )\n",
    "        \n",
    "map_y =   y1*( (1-xi)*(1-eta) ) \\\n",
    "        + y2*( (1-xi)*  eta   ) \\\n",
    "        + y3*(    xi *  eta   ) \\\n",
    "        + y4*(    xi *(1-eta) )\n",
    "\n",
    "# define jacobian\n",
    "l_jac = sympy.Matrix( \\\n",
    "[\n",
    "  [ sympy.diff( map_x, xi ),  sympy.diff( map_y, xi  ), ],\\\n",
    "  [ sympy.diff( map_x, eta ), sympy.diff( map_y, eta ), ]\n",
    "]\n",
    ")\n",
    "\n",
    "# determinant for rectangular elements\n",
    "#\n",
    "#    x xoords of 3 and 4 match\n",
    "#       \\\n",
    "# 2     3\n",
    "#  ***** <- y coords of 2 and 3 match\n",
    "#  *   *\n",
    "#  ***** <- y coords of 1 and 4 match\n",
    "# 1     4\n",
    "#  \\\n",
    "#   x coords of 1 and 2 match\n",
    "#\n",
    "l_jacRect = sympy.simplify( l_jac.subs( x2, x1 ).subs( x4, x3 ).subs(y4, y1).subs(y3, y2) )\n",
    "l_detRect = l_jacRect.det()\n",
    "\n",
    "# determinant for the general case\n",
    "l_detGen = sympy.simplify( l_jac.det() )\n",
    "\n",
    "l_detRect\n",
    "#, l_detGen\n",
    "\n",
    "l_jacRect "
   ]
  },
  {
   "cell_type": "markdown",
   "metadata": {},
   "source": [
    "# Triangles"
   ]
  },
  {
   "cell_type": "code",
   "execution_count": null,
   "metadata": {
    "collapsed": false
   },
   "outputs": [],
   "source": [
    "map_x = x1 + (x2-x1)*xi + (x3-x1)*eta\n",
    "map_y = y1 + (y2-y1)*xi + (y3-y1)*eta\n",
    "\n",
    "# define jacobian\n",
    "l_jac = sympy.Matrix( \\\n",
    "[\n",
    "  [ sympy.diff( map_x, xi ), sympy.diff( map_x, eta ), ],\\\n",
    "  [ sympy.diff( map_y, xi ), sympy.diff( map_y, eta ), ]\n",
    "]\n",
    ")\n",
    "\n",
    "l_jac.det()"
   ]
  }
 ],
 "metadata": {
  "kernelspec": {
   "display_name": "Python 2",
   "language": "python",
   "name": "python2"
  },
  "language_info": {
   "codemirror_mode": {
    "name": "ipython",
    "version": 2
   },
   "file_extension": ".py",
   "mimetype": "text/x-python",
   "name": "python",
   "nbconvert_exporter": "python",
   "pygments_lexer": "ipython2",
   "version": "2.7.6"
  }
 },
 "nbformat": 4,
 "nbformat_minor": 0
}
