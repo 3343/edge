{
 "cells": [
  {
   "cell_type": "code",
   "execution_count": null,
   "metadata": {
    "collapsed": true
   },
   "outputs": [],
   "source": [
    "##\n",
    "# @file This file is part of EDGE.\n",
    "#\n",
    "# @author Alexander Breuer (anbreuer AT ucsd.edu)\n",
    "#\n",
    "# @section LICENSE\n",
    "# Copyright (c) 2016, Regents of the University of California\n",
    "# All rights reserved.\n",
    "#\n",
    "# Redistribution and use in source and binary forms, with or without modification, are permitted provided that the following conditions are met:\n",
    "#\n",
    "# 1. Redistributions of source code must retain the above copyright notice, this list of conditions and the following disclaimer.\n",
    "#\n",
    "# 2. Redistributions in binary form must reproduce the above copyright notice, this list of conditions and the following disclaimer in the documentation and/or other materials provided with the distribution.\n",
    "#\n",
    "# 3. Neither the name of the copyright holder nor the names of its contributors may be used to endorse or promote products derived from this software without specific prior written permission.\n",
    "#\n",
    "# THIS SOFTWARE IS PROVIDED BY THE COPYRIGHT HOLDERS AND CONTRIBUTORS \"AS IS\" AND ANY EXPRESS OR IMPLIED WARRANTIES, INCLUDING, BUT NOT LIMITED TO, THE IMPLIED WARRANTIES OF MERCHANTABILITY AND FITNESS FOR A PARTICULAR PURPOSE ARE DISCLAIMED. IN NO EVENT SHALL THE COPYRIGHT HOLDER OR CONTRIBUTORS BE LIABLE FOR ANY DIRECT, INDIRECT, INCIDENTAL, SPECIAL, EXEMPLARY, OR CONSEQUENTIAL DAMAGES (INCLUDING, BUT NOT LIMITED TO, PROCUREMENT OF SUBSTITUTE GOODS OR SERVICES; LOSS OF USE, DATA, OR PROFITS; OR BUSINESS INTERRUPTION) HOWEVER CAUSED AND ON ANY THEORY OF LIABILITY, WHETHER IN CONTRACT, STRICT LIABILITY, OR TORT (INCLUDING NEGLIGENCE OR OTHERWISE) ARISING IN ANY WAY OUT OF THE USE OF THIS SOFTWARE, EVEN IF ADVISED OF THE POSSIBILITY OF SUCH DAMAGE.\n",
    "#\n",
    "# @section DESCRIPTION\n",
    "# Derivation of basis functions and the attached matrices for \"rectangular\" elements: Lines, quads, hexes.\n",
    "##"
   ]
  },
  {
   "cell_type": "code",
   "execution_count": null,
   "metadata": {
    "collapsed": false
   },
   "outputs": [],
   "source": [
    "import sympy\n",
    "import matplotlib.pyplot\n",
    "sympy.init_printing(use_unicode=True)"
   ]
  },
  {
   "cell_type": "code",
   "execution_count": null,
   "metadata": {
    "collapsed": false
   },
   "outputs": [],
   "source": [
    "# upper polynomial degree\n",
    "l_degUp = 3\n",
    "\n",
    "# array of polynomials\n",
    "l_pols = []\n",
    "\n",
    "xib = sympy.symbols('xib') # coordinates of the basis [-1,1]\n",
    "xi = sympy.symbols('xi') # mapped coordinates in [0,1]\n",
    "\n",
    "# derive polynomials\n",
    "for l_deg in xrange(0, l_degUp):\n",
    "  # add legendre polynomials, shifted to interval [0,1] \n",
    "  l_pols    = l_pols + [ sympy.legendre(l_deg, xib).subs(xib, (2*xi-1)) ]\n",
    "\n",
    "sympy.plotting.plot( l_pols[0], l_pols[1], l_pols[2], l_pols[3], l_pols[4], l_pols[5], (xi, 0, 1))"
   ]
  },
  {
   "cell_type": "code",
   "execution_count": null,
   "metadata": {
    "collapsed": false
   },
   "outputs": [],
   "source": [
    "# compute the mass matrix\n",
    "l_mm = sympy.Matrix( l_pols ) * sympy.Matrix.transpose( sympy.Matrix( l_pols ) )\n",
    "l_mm = sympy.integrate( l_mm, (xi, 0, 1) )\n",
    "\n",
    "# compute the stiffness matrix\n",
    "l_sm = sympy.Matrix( l_pols )\n",
    "l_sm = l_sm * sympy.Matrix.transpose( sympy.Matrix( sympy.diff( l_sm ) ) )\n",
    "l_sm = sympy.integrate( l_sm, (xi, 0, 1) )\n",
    "\n",
    "l_mm, l_sm, l_sm * l_mm.inv(), l_sm.transpose() * l_mm.inv()"
   ]
  },
  {
   "cell_type": "code",
   "execution_count": null,
   "metadata": {
    "collapsed": false
   },
   "outputs": [],
   "source": [
    "# compute flux matrices\n",
    "\n",
    "# evaluation of basis function at left side (0)\n",
    "l_left = []\n",
    "for l_deg in xrange(0, l_degUp):\n",
    "  l_left = l_left + [l_pols[l_deg].subs(xi, 0)]\n",
    "\n",
    "# evalution of basis functions at right side (1)\n",
    "\n",
    "l_right = []\n",
    "for l_deg in xrange(0, l_degUp):\n",
    "  l_right = l_right + [l_pols[l_deg].subs(xi, 1)]\n",
    "\n",
    "# compute local flux matrices\n",
    "l_localFm = dict()\n",
    "l_localFm['fM0'] = sympy.Matrix( l_left ) *  sympy.Matrix.transpose( sympy.Matrix( l_left ))\n",
    "\n",
    "l_localFm['fM1'] = sympy.Matrix( l_right ) *  sympy.Matrix.transpose( sympy.Matrix( l_right ))\n",
    "\n",
    "# compute neighboring flux matrices\n",
    "l_neighFm = dict()\n",
    "\n",
    "l_neighFm['fP00'] = sympy.Matrix( l_left )  *  sympy.Matrix.transpose( sympy.Matrix( l_left ))\n",
    "l_neighFm['fP01'] = sympy.Matrix( l_right )  *  sympy.Matrix.transpose( sympy.Matrix( l_left ))\n",
    "l_neighFm['fP10'] = sympy.Matrix( l_left ) *  sympy.Matrix.transpose( sympy.Matrix( l_right ))\n",
    "l_neighFm['fP11'] = sympy.Matrix( l_right ) *  sympy.Matrix.transpose( sympy.Matrix( l_right ))"
   ]
  },
  {
   "cell_type": "code",
   "execution_count": null,
   "metadata": {
    "collapsed": false
   },
   "outputs": [],
   "source": [
    "# generate code for our basis functions\n",
    "print \"assert( b <\", l_degUp,\");\"\n",
    "for l_deg in xrange(0, l_degUp):\n",
    "  print \"if( b ==\", l_deg, \") {\" \n",
    "  print \"  val    =\", sympy.ccode(            l_pols[l_deg]  ).replace(\"pow\", \"std::pow\"), \";\"\n",
    "  print \"}\"\n",
    "\n",
    "print '*******************************'\n",
    "\n",
    "# generate code for derivatives of our basis functions\n",
    "print \"assert( b <\", l_degUp,\");\"\n",
    "for l_deg in xrange(0, l_degUp):\n",
    "  print \"if( b ==\", l_deg, \") {\" \n",
    "  print \"  valDxi =\", sympy.ccode( sympy.diff(l_pols[l_deg]) ).replace(\"pow\", \"std::pow\"), \";\"\n",
    "  print \"}\"\n"
   ]
  },
  {
   "cell_type": "code",
   "execution_count": null,
   "metadata": {
    "collapsed": false
   },
   "outputs": [],
   "source": [
    "from sympy.integrals import quadrature\n",
    "quadrature.gauss_legendre( 3, 20 )\n",
    "\n",
    "l_neighFm['fP00'] * l_mm.inv(), l_neighFm['fP01'] * l_mm.inv(), "
   ]
  },
  {
   "cell_type": "markdown",
   "metadata": {},
   "source": [
    "# Quads\n",
    "Remark: This is not a hierarchical format since we go for xi first and then for eta!"
   ]
  },
  {
   "cell_type": "code",
   "execution_count": null,
   "metadata": {
    "collapsed": false
   },
   "outputs": [],
   "source": [
    "# build quad basis functions as tensor product\n",
    "l_bQuads = []\n",
    "eta = sympy.symbols('eta')\n",
    "chi = sympy.symbols('chi')\n",
    "\n",
    "for l_degEta in xrange(0, l_degUp):\n",
    "  for l_degXi in xrange(0, l_degUp):\n",
    "    l_bQuads = l_bQuads + [ l_pols[l_degXi] * l_pols[l_degEta].subs( xi, eta  ) ]"
   ]
  },
  {
   "cell_type": "code",
   "execution_count": null,
   "metadata": {
    "collapsed": false
   },
   "outputs": [],
   "source": [
    "import mpmath\n",
    "# compute the mass matrix\n",
    "l_mmQuads = sympy.Matrix( l_bQuads ) * sympy.Matrix.transpose( sympy.Matrix( l_bQuads ) )\n",
    "\n",
    "for l_en in xrange(0, len(l_mmQuads)):\n",
    "  l_mmQuads[l_en] = sympy.integrate( l_mmQuads[l_en], (xi, 0, 1), (eta, 0, 1) )\n",
    "\n",
    "# compute the stiffness matrices\n",
    "l_smQuads = {}\n",
    "l_smQuads['xi']  = sympy.Matrix( l_bQuads )\n",
    "l_smQuads['eta'] = sympy.Matrix( l_bQuads )\n",
    "\n",
    "l_smQuads['xi']  = l_smQuads['xi']  * sympy.Matrix.transpose( sympy.Matrix( sympy.diff( l_smQuads['xi'], xi  ) ) )\n",
    "l_smQuads['eta'] = l_smQuads['eta'] * sympy.Matrix.transpose( sympy.Matrix( sympy.diff( l_smQuads['eta'], eta ) ) )\n",
    "\n",
    "for l_en in xrange(0, len(l_smQuads['xi'])):\n",
    "  l_smQuads['xi'][l_en] = sympy.integrate( l_smQuads['xi'][l_en], (xi, 0, 1), (eta, 0, 1) )\n",
    "  l_smQuads['eta'][l_en] = sympy.integrate( l_smQuads['eta'][l_en], (xi, 0, 1), (eta, 0, 1) )"
   ]
  },
  {
   "cell_type": "code",
   "execution_count": null,
   "metadata": {
    "collapsed": false
   },
   "outputs": [],
   "source": [
    "# compute flux matrices\n",
    "l_localFm = dict()\n",
    "l_neighFm = dict()\n",
    "\n",
    "# local face\n",
    "for l_f1 in xrange(0,4):\n",
    "  # determine basis\n",
    "  l_basisF1 = []\n",
    "  for l_bf in xrange(0, len(l_bQuads)):\n",
    "    if   l_f1 == 0: l_basisF1 = l_basisF1 + [ l_bQuads[l_bf].subs(eta, 0).subs( xi, chi)   ]\n",
    "    elif l_f1 == 1: l_basisF1 = l_basisF1 + [ l_bQuads[l_bf].subs(xi, 1).subs( eta, chi)   ]\n",
    "    elif l_f1 == 2: l_basisF1 = l_basisF1 + [ l_bQuads[l_bf].subs(eta, 1).subs(xi,  1-chi) ]\n",
    "    elif l_f1 == 3: l_basisF1 = l_basisF1 + [ l_bQuads[l_bf].subs(xi, 0).subs( eta, 1-chi) ]\n",
    "\n",
    "  # assemnle flux matrix\n",
    "  l_localFm['fm'+str(l_f1)] = sympy.Matrix( l_basisF1 ) * \\\n",
    "                              sympy.Matrix.transpose( sympy.Matrix( l_basisF1 ))\n",
    "    \n",
    "  # do the integration\n",
    "  l_localFm['fm'+str(l_f1)] = sympy.integrate( l_localFm['fm'+str(l_f1)], (chi, 0, 1) )\n",
    "\n",
    "        \n",
    "  # neighboring face\n",
    "  for l_f2 in xrange(0,4):\n",
    "    # basis at face, where chi is the shared integration parameter\n",
    "    l_basisF2 = []\n",
    "    \n",
    "    # iterate over bfunctions\n",
    "    for l_bf in xrange(0, len(l_bQuads)):\n",
    "    if   l_f1 == 0: l_basisF1 = l_basisF1 + [ l_bQuads[l_bf].subs(eta, 0).subs( xi, 1-chi) ]\n",
    "    elif l_f1 == 1: l_basisF1 = l_basisF1 + [ l_bQuads[l_bf].subs(xi, 1).subs( eta, 1-chi) ]\n",
    "    elif l_f1 == 2: l_basisF1 = l_basisF1 + [ l_bQuads[l_bf].subs(eta, 1).subs(xi,    chi) ]\n",
    "    elif l_f1 == 3: l_basisF1 = l_basisF1 + [ l_bQuads[l_bf].subs(xi, 0).subs( eta,   chi) ]\n",
    "\n",
    "    # assemble the flux matrix\n",
    "    l_neighFm['fp'+str(l_f1)+str(l_f2)] = sympy.Matrix( l_basisF2 ) * \\\n",
    "                                          sympy.Matrix.transpose( sympy.Matrix( l_basisF1 ))\n",
    "\n",
    "    # do the integration\n",
    "    l_neighFm['fp'+str(l_f1)+str(l_f2)] = sympy.integrate( l_neighFm['fp'+str(l_f1)+str(l_f2)], (chi, 0, 1) )\n",
    "\n",
    "l_localFm['fm0'], l_localFm['fm1'], l_localFm['fm2'], l_localFm['fm3'], l_neighFm['fp33']"
   ]
  },
  {
   "cell_type": "code",
   "execution_count": null,
   "metadata": {
    "collapsed": false
   },
   "outputs": [],
   "source": [
    "l_localFm['fm0'], l_localFm['fm1'], l_localFm['fm2'], l_localFm['fm3'], l_neighFm['fp33']"
   ]
  },
  {
   "cell_type": "code",
   "execution_count": null,
   "metadata": {
    "collapsed": false
   },
   "outputs": [],
   "source": [
    "l_mmQuads, l_smQuads['xi'], l_smQuads['eta']"
   ]
  },
  {
   "cell_type": "markdown",
   "metadata": {},
   "source": [
    "# Hexes\n",
    "Remark: This is not a hierarchical format since we go for xi first and then for eta!"
   ]
  },
  {
   "cell_type": "code",
   "execution_count": null,
   "metadata": {
    "collapsed": false
   },
   "outputs": [],
   "source": [
    "# build quad basis functions as tensor product\n",
    "l_bHexes = []\n",
    "eta   = sympy.symbols('eta')\n",
    "zeta  = sympy.symbols('zeta')\n",
    "alpha = sympy.symbols('alpha')\n",
    "beta  = sympy.symbols('beta')\n",
    "\n",
    "for l_degZeta in xrange(0, l_degUp):\n",
    "  for l_degEta in xrange(0, l_degUp):\n",
    "    for l_degXi in xrange(0, l_degUp):\n",
    "      l_bHexes = l_bHexes + [ l_pols[l_degXi] * l_pols[l_degEta].subs( xi, eta  ) * l_pols[l_degZeta].subs( xi, zeta) ]"
   ]
  },
  {
   "cell_type": "code",
   "execution_count": null,
   "metadata": {
    "collapsed": false
   },
   "outputs": [],
   "source": [
    "import mpmath\n",
    "# compute the mass matrix\n",
    "l_mmHexes = sympy.Matrix( l_bHexes ) * sympy.Matrix.transpose( sympy.Matrix( l_bHexes ) )\n",
    "\n",
    "for l_en in xrange(0, len(l_mmHexes)):\n",
    "  l_mmHexes[l_en] = sympy.integrate( l_mmHexes[l_en], (xi, 0, 1), (eta, 0, 1), (zeta, 0, 1) )\n",
    "\n",
    "# compute the stiffness matrices\n",
    "l_smHexes = {}\n",
    "l_smHexes['xi']   = sympy.Matrix( l_bHexes )\n",
    "l_smHexes['eta']  = sympy.Matrix( l_bHexes )\n",
    "l_smHexes['zeta'] = sympy.Matrix( l_bHexes )\n",
    "\n",
    "l_smHexes['xi']   = l_smHexes['xi']   * sympy.Matrix.transpose( sympy.Matrix( sympy.diff( l_smHexes['xi'],   xi   ) ) )\n",
    "l_smHexes['eta']  = l_smHexes['eta']  * sympy.Matrix.transpose( sympy.Matrix( sympy.diff( l_smHexes['eta'],  eta  ) ) )\n",
    "l_smHexes['zeta'] = l_smHexes['zeta'] * sympy.Matrix.transpose( sympy.Matrix( sympy.diff( l_smHexes['zeta'], zeta ) ) )\n",
    "\n",
    "for l_en in xrange(0, len(l_smHexes['xi'])):\n",
    "  l_smHexes['xi'][l_en]   = sympy.integrate( l_smHexes['xi'][l_en],   (xi, 0, 1), (eta, 0, 1), (zeta, 0, 1 ) )\n",
    "  l_smHexes['eta'][l_en]  = sympy.integrate( l_smHexes['eta'][l_en],  (xi, 0, 1), (eta, 0, 1), (zeta, 0, 1 ) )\n",
    "  l_smHexes['zeta'][l_en] = sympy.integrate( l_smHexes['zeta'][l_en], (xi, 0, 1), (eta, 0, 1), (zeta, 0, 1 ) )"
   ]
  },
  {
   "cell_type": "code",
   "execution_count": null,
   "metadata": {
    "collapsed": false
   },
   "outputs": [],
   "source": [
    "l_mmHexes, l_smHexes['zeta']"
   ]
  },
  {
   "cell_type": "code",
   "execution_count": null,
   "metadata": {
    "collapsed": false
   },
   "outputs": [],
   "source": [
    "# Here's the layout of our hexehedral elements:\n",
    "#\n",
    "#   face 0: 0-1-2-3\n",
    "#   face 1: 0-1-5-4\n",
    "#   face 2: 1-2-6-5\n",
    "#   face 3: 3-2-6-7\n",
    "#   face 4: 0-3-7-4\n",
    "#   face 5: 4-5-6-7\n",
    "#\n",
    "#\n",
    "#                     7 x*******************x 6\n",
    "#                      **                 * *\n",
    "#                     * *                 * *\n",
    "#                    *  *                *  *\n",
    "#                   *   *               *   *\n",
    "#                  *    *              *    *\n",
    "#               4 x*******************x 5   *\n",
    "#                 *     *             *     *\n",
    "#                 *   3 x************ * ****x 2  \n",
    "#                 *    *              *    *\n",
    "#                 *   *               *   *\n",
    "#                 |  /                *  *\n",
    "#            zeta | / eta             * *\n",
    "#                 |/                  **\n",
    "#                 x---****************x\n",
    "#               0   xi                 1\n",
    "#                                                     \n",
    "# In the case of unstructured hexehedral meshes, \n",
    "# we have a total of 6 (local face) * 6 (neighboring face) * 4 (vertex mapping) = 64 flux matrices.\n",
    "#\n",
    "# The vertex mapping is unique by the position of the local face's first vertex to the local position\n",
    "# in w.r.t. to the neighboring face's first vertex.\n",
    "#\n",
    "# An example:\n",
    "#\n",
    "# 5 ********* 6              4  ********* 7\n",
    "#   *       *                   *       *\n",
    "#   *   2   *     neighbors     *   4   *\n",
    "#   *       *                   *       *\n",
    "# 1 ********* 2               0 ********* 3 <--- location of local face 1\n",
    "#\n",
    "# ID:  2 * 6 * 4 (local face)\n",
    "#    +     4 * 4 (neighboring face)\n",
    "#    +         1 (location of vertex 1 is 3)\n",
    "#\n",
    "# We limit this derivation to rectangular (structured) meshes:\n",
    "# This results in only six neighboring flux matrices since the mapping to the reference element\n",
    "# does not involve any rotations:\n",
    "#   * face 0 always neighbors face 5\n",
    "#   * face 1 always neighbors face 3\n",
    "#   * face 2 always neighbors face 4\n",
    "#   * the first node of a local face always corresponds to the first node of the neighboring face\n",
    "\n",
    "# compute flux matrices\n",
    "l_localFm = dict()\n",
    "l_neighFm = dict()\n",
    "\n",
    "# determine basis\n",
    "l_basisFlux = [[] for l_i in xrange(6)]\n",
    "for l_bf in xrange(0, len(l_bHexes)):\n",
    "  l_basisFlux[0] = l_basisFlux[0] + [ l_bHexes[l_bf].subs(zeta, 0).subs( xi,  alpha).subs( eta,  beta)  ]\n",
    "  l_basisFlux[1] = l_basisFlux[1] + [ l_bHexes[l_bf].subs(eta,  0).subs( xi,  alpha).subs( zeta, beta) ]\n",
    "  l_basisFlux[2] = l_basisFlux[2] + [ l_bHexes[l_bf].subs(xi,   1).subs( eta, alpha).subs( zeta, beta) ]\n",
    "  l_basisFlux[3] = l_basisFlux[3] + [ l_bHexes[l_bf].subs(eta,  1).subs( xi,  alpha).subs( zeta, beta) ]\n",
    "  l_basisFlux[4] = l_basisFlux[4] + [ l_bHexes[l_bf].subs(xi,   0).subs( eta, alpha).subs( zeta, beta) ]\n",
    "  l_basisFlux[5] = l_basisFlux[5] + [ l_bHexes[l_bf].subs(zeta, 1).subs( xi,  alpha).subs( eta,  beta) ]\n",
    "\n",
    "# assemble flux matrices\n",
    "for l_f1 in xrange(0, 6):\n",
    "  # assemnle flux matrix\n",
    "  l_localFm['fm'+str(l_f1)] = sympy.Matrix( l_basisFlux[l_f1] ) * \\\n",
    "                              sympy.Matrix.transpose( sympy.Matrix( l_basisFlux[l_f1] ))\n",
    "    \n",
    "  # do the integration\n",
    "  for l_en in xrange(0, len(l_smHexes['xi'])):\n",
    "    l_localFm['fm'+str(l_f1)][l_en] = sympy.integrate( l_localFm['fm'+str(l_f1)][l_en], (alpha, 0, 1), (beta, 0, 1) )\n",
    "\n",
    "        \n",
    "  # neighboring face\n",
    "  l_f2 = -1;\n",
    "  if( l_f1 == 0 ): l_f2 = 5\n",
    "  if( l_f1 == 1 ): l_f2 = 3\n",
    "  if( l_f1 == 2 ): l_f2 = 4\n",
    "  if( l_f1 == 3 ): l_f2 = 1\n",
    "  if( l_f1 == 4 ): l_f2 = 2\n",
    "  if( l_f1 == 5 ): l_f2 = 0\n",
    "    \n",
    "  # assemble flux matrix\n",
    "  l_neighFm['fp'+str(l_f1)+str(l_f2)] = sympy.Matrix( l_basisFlux[l_f1] ) * \\\n",
    "                                        sympy.Matrix.transpose( sympy.Matrix( l_basisFlux[l_f2] ) )\n",
    "    \n",
    "  # do the integration\n",
    "  for l_en in xrange(0, len(l_smHexes['xi'])):\n",
    "    l_neighFm['fp'+str(l_f1)+str(l_f2)][l_en] = sympy.integrate( l_neighFm['fp'+str(l_f1)+str(l_f2)][l_en],\\\n",
    "                                                                 (alpha, 0, 1), (beta, 0, 1) )"
   ]
  },
  {
   "cell_type": "code",
   "execution_count": null,
   "metadata": {
    "collapsed": false
   },
   "outputs": [],
   "source": [
    "l_neighFm['fp50']"
   ]
  }
 ],
 "metadata": {
  "kernelspec": {
   "display_name": "Python 2",
   "language": "python",
   "name": "python2"
  },
  "language_info": {
   "codemirror_mode": {
    "name": "ipython",
    "version": 2
   },
   "file_extension": ".py",
   "mimetype": "text/x-python",
   "name": "python",
   "nbconvert_exporter": "python",
   "pygments_lexer": "ipython2",
   "version": "2.7.6"
  }
 },
 "nbformat": 4,
 "nbformat_minor": 0
}
