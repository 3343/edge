{
 "cells": [
  {
   "cell_type": "code",
   "execution_count": null,
   "metadata": {
    "collapsed": true
   },
   "outputs": [],
   "source": [
    "##\n",
    "# @file This file is part of EDGE.\n",
    "#\n",
    "# @author Alexander Breuer (anbreuer AT ucsd.edu)\n",
    "#\n",
    "# @section LICENSE\n",
    "# Copyright (c) 2016, Regents of the University of California\n",
    "# All rights reserved.\n",
    "#\n",
    "# Redistribution and use in source and binary forms, with or without modification, are permitted provided that the following conditions are met:\n",
    "#\n",
    "# 1. Redistributions of source code must retain the above copyright notice, this list of conditions and the following disclaimer.\n",
    "#\n",
    "# 2. Redistributions in binary form must reproduce the above copyright notice, this list of conditions and the following disclaimer in the documentation and/or other materials provided with the distribution.\n",
    "#\n",
    "# 3. Neither the name of the copyright holder nor the names of its contributors may be used to endorse or promote products derived from this software without specific prior written permission.\n",
    "#\n",
    "# THIS SOFTWARE IS PROVIDED BY THE COPYRIGHT HOLDERS AND CONTRIBUTORS \"AS IS\" AND ANY EXPRESS OR IMPLIED WARRANTIES, INCLUDING, BUT NOT LIMITED TO, THE IMPLIED WARRANTIES OF MERCHANTABILITY AND FITNESS FOR A PARTICULAR PURPOSE ARE DISCLAIMED. IN NO EVENT SHALL THE COPYRIGHT HOLDER OR CONTRIBUTORS BE LIABLE FOR ANY DIRECT, INDIRECT, INCIDENTAL, SPECIAL, EXEMPLARY, OR CONSEQUENTIAL DAMAGES (INCLUDING, BUT NOT LIMITED TO, PROCUREMENT OF SUBSTITUTE GOODS OR SERVICES; LOSS OF USE, DATA, OR PROFITS; OR BUSINESS INTERRUPTION) HOWEVER CAUSED AND ON ANY THEORY OF LIABILITY, WHETHER IN CONTRACT, STRICT LIABILITY, OR TORT (INCLUDING NEGLIGENCE OR OTHERWISE) ARISING IN ANY WAY OUT OF THE USE OF THIS SOFTWARE, EVEN IF ADVISED OF THE POSSIBILITY OF SUCH DAMAGE.\n",
    "#\n",
    "# @section DESCRIPTION\n",
    "# Basics for mappings to and from the reference elements.\n",
    "##"
   ]
  },
  {
   "cell_type": "markdown",
   "metadata": {},
   "source": [
    "# Triangles"
   ]
  },
  {
   "cell_type": "code",
   "execution_count": null,
   "metadata": {
    "collapsed": true
   },
   "outputs": [],
   "source": [
    "import numpy\n",
    "import matplotlib.pyplot\n",
    "\n",
    "def orientation( i_veCoords ):\n",
    "  for l_ve in xrange(len(i_veCoords)):\n",
    "    i_veCoords[l_ve] = numpy.array(i_veCoords[l_ve])\n",
    "  # compute triple product\n",
    "  l_mat = numpy.matrix( [i_veCoords[1] - i_veCoords[0], i_veCoords[0] - i_veCoords[2]] )\n",
    "  print numpy.linalg.det( l_mat )\n",
    "    \n",
    "  # draw\n",
    "  x = [ i_veCoords[0][0], i_veCoords[1][0], i_veCoords[2][0] ]\n",
    "  y = [ i_veCoords[0][1], i_veCoords[1][1], i_veCoords[2][1] ]\n",
    "  u = [ i_veCoords[1][0] - i_veCoords[0][0],\n",
    "        i_veCoords[2][0] - i_veCoords[1][0],\n",
    "        i_veCoords[0][0] - i_veCoords[2][0],\n",
    "      ]\n",
    "  v = [ i_veCoords[1][1] - i_veCoords[0][1],\n",
    "        i_veCoords[2][1] - i_veCoords[1][1],\n",
    "        i_veCoords[0][1] - i_veCoords[2][1],\n",
    "      ]\n",
    "\n",
    "  # create a maplot figure and show the quiver plot\n",
    "  matplotlib.pyplot.figure()\n",
    "  ax = matplotlib.pyplot.gca()\n",
    "  ax.quiver(x,y,u,v,angles='xy',scale_units='xy',scale=1, linestyles=('solid', 'dashed') )\n",
    "  ax.set_xlim([-1,2])\n",
    "  ax.set_ylim([-1,2])\n",
    "  matplotlib.pyplot.draw()\n",
    "  matplotlib.pyplot.show()"
   ]
  },
  {
   "cell_type": "code",
   "execution_count": null,
   "metadata": {
    "collapsed": false
   },
   "outputs": [],
   "source": [
    "# vertex coordinates\n",
    "veCoordsR = [ [0,0], [0,1], [1,0]  ]\n",
    "veCoordsL = [ [0,0], [1,0], [0,1]  ]\n",
    "veCoordsL = [ [0,-1], [2,0], [0,1]  ]\n",
    "\n",
    "# draw arrows from 0 - 1 - 2\n",
    "orientation( veCoordsL )\n"
   ]
  },
  {
   "cell_type": "markdown",
   "metadata": {},
   "source": [
    "# Tetrahedron"
   ]
  },
  {
   "cell_type": "code",
   "execution_count": null,
   "metadata": {
    "collapsed": false
   },
   "outputs": [],
   "source": [
    "from mpl_toolkits.mplot3d import axes3d\n",
    "\n",
    "# plots face 3's (0-3 faces in total) orientation and the normal (starting at vertex 0)\n",
    "#\n",
    "# @param i_veCoords face's coordinates\n",
    "# @param i_normal normal\n",
    "def orientation( i_veCoords, i_normal ):\n",
    "  for l_ve in xrange(len(i_veCoords)):\n",
    "    i_veCoords[l_ve] = numpy.array(i_veCoords[l_ve])\n",
    "  # compute triple product / determinant\n",
    "  l_mat = numpy.matrix( [ i_veCoords[1] - i_veCoords[0],\n",
    "                          i_veCoords[2] - i_veCoords[0],\n",
    "                          i_veCoords[3] - i_veCoords[0]] )\n",
    "  print l_mat\n",
    "  print numpy.linalg.det( l_mat )\n",
    "\n",
    "  # draw\n",
    "  x =  [ i_veCoords[0][0], i_veCoords[1][0], i_veCoords[2][0], i_veCoords[3][0] ] \n",
    "  y =  [ i_veCoords[0][1], i_veCoords[1][1], i_veCoords[2][1], i_veCoords[3][1] ] \n",
    "  z =  [ i_veCoords[0][2], i_veCoords[1][2], i_veCoords[2][2], i_veCoords[3][2] ]\n",
    "\n",
    "  u =  [ i_normal[0],\n",
    "         i_veCoords[2][0] - i_veCoords[1][0],\n",
    "         i_veCoords[3][0] - i_veCoords[2][0],\n",
    "         i_veCoords[1][0] - i_veCoords[3][0],\n",
    "       ]\n",
    "  v =  [ i_normal[1],\n",
    "         i_veCoords[2][1] - i_veCoords[1][1],\n",
    "         i_veCoords[3][1] - i_veCoords[2][1],\n",
    "         i_veCoords[1][1] - i_veCoords[3][1],\n",
    "       ]\n",
    "  w =  [ i_normal[2],\n",
    "         i_veCoords[2][2] - i_veCoords[1][2],\n",
    "         i_veCoords[3][2] - i_veCoords[2][2],\n",
    "         i_veCoords[1][2] - i_veCoords[3][2],\n",
    "       ]\n",
    "\n",
    "  # create a maplot figure and show the quiver plot\n",
    "  matplotlib.pyplot.figure()\n",
    "  ax = matplotlib.pyplot.gca(projection='3d')\n",
    "  # plot the face\n",
    "  ax.plot(x[1:4]+[x[1]],y[1:4]+[y[1]],z[1:4]+[z[1]])\n",
    "  # plot the vectors\n",
    "  ax.quiver(x,y,z,u,v,w)\n",
    "  matplotlib.pyplot.draw()\n",
    "  matplotlib.pyplot.show()"
   ]
  },
  {
   "cell_type": "code",
   "execution_count": null,
   "metadata": {
    "collapsed": false
   },
   "outputs": [],
   "source": [
    "veCoordsR = [ [3.10402, 2.94652, 2.94355],\n",
    "              [3.60915, 3.88923, 1.6459],\n",
    "              [2.43949, 3.11453, 1.31438],\n",
    "              [2.32222, 3.90676, 3.11039] ]\n",
    "veCoordsL = [ [3.10402, 2.94652, 2.94355],\n",
    "              [3.60915, 3.88923, 1.6459],\n",
    "              [2.32222, 3.90676, 3.11039],\n",
    "              [2.43949, 3.11453, 1.31438]]\n",
    "normal = [-0.430101, 0.815286, -0.387714]\n",
    "orientation(veCoordsR, normal)"
   ]
  }
 ],
 "metadata": {
  "kernelspec": {
   "display_name": "Python 2",
   "language": "python",
   "name": "python2"
  },
  "language_info": {
   "codemirror_mode": {
    "name": "ipython",
    "version": 2
   },
   "file_extension": ".py",
   "mimetype": "text/x-python",
   "name": "python",
   "nbconvert_exporter": "python",
   "pygments_lexer": "ipython2",
   "version": "2.7.6"
  }
 },
 "nbformat": 4,
 "nbformat_minor": 0
}
